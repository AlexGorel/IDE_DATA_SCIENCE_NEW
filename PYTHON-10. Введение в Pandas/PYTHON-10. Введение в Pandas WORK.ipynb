{
 "cells": [
  {
   "cell_type": "code",
   "execution_count": 1,
   "metadata": {},
   "outputs": [
    {
     "data": {
      "text/plain": [
       "'2.0.2'"
      ]
     },
     "execution_count": 1,
     "metadata": {},
     "output_type": "execute_result"
    }
   ],
   "source": [
    "import pandas as pd\n",
    "pd.__version__"
   ]
  },
  {
   "cell_type": "code",
   "execution_count": 2,
   "metadata": {},
   "outputs": [
    {
     "name": "stdout",
     "output_type": "stream",
     "text": [
      "pandas\n"
     ]
    }
   ],
   "source": [
    "print(pd.__name__)"
   ]
  },
  {
   "cell_type": "code",
   "execution_count": 8,
   "metadata": {},
   "outputs": [
    {
     "data": {
      "text/plain": [
       "UK       Англия\n",
       "CA       Канада\n",
       "US          США\n",
       "RU       Россия\n",
       "UA      Украина\n",
       "BY     Беларусь\n",
       "KZ    Казахстан\n",
       "Name: countries, dtype: object"
      ]
     },
     "metadata": {},
     "output_type": "display_data"
    }
   ],
   "source": [
    "countries = pd.Series(\n",
    "    data = ['Англия', 'Канада', 'США', 'Россия', 'Украина', 'Беларусь', 'Казахстан'],\n",
    "    index = ['UK', 'CA', 'US', 'RU', 'UA', 'BY', 'KZ'],\n",
    "    name = 'countries'\n",
    ")\n",
    "display(countries)"
   ]
  },
  {
   "cell_type": "code",
   "execution_count": 20,
   "metadata": {},
   "outputs": [
    {
     "name": "stdout",
     "output_type": "stream",
     "text": [
      "UK     Англия\n",
      "US        США\n",
      "UA    Украина\n",
      "Name: countries, dtype: object\n",
      "UK     Англия\n",
      "US        США\n",
      "UA    Украина\n",
      "Name: countries, dtype: object\n"
     ]
    }
   ],
   "source": [
    "countries = pd.Series({\n",
    "    'UK': 'Англия',\n",
    "    'CA': 'Канада',\n",
    "    'US' : 'США',\n",
    "    'RU': 'Россия',\n",
    "    'UA': 'Украина',\n",
    "    'BY': 'Беларусь',\n",
    "    'KZ': 'Казахстан'},\n",
    "    name = 'countries'\n",
    ")\n",
    "#display(countries)\n",
    "#print(countries.loc[['KZ','UA']])\n",
    "#print(countries.iloc[1:3])\n",
    "\n",
    "print(countries[['UK', 'US', 'UA']])\n",
    "print(countries[[0, 2, 4]])"
   ]
  },
  {
   "cell_type": "code",
   "execution_count": 23,
   "metadata": {},
   "outputs": [
    {
     "data": {
      "text/plain": [
       "a     5\n",
       "b     6\n",
       "c     7\n",
       "d     8\n",
       "e     9\n",
       "f    10\n",
       "dtype: int64"
      ]
     },
     "metadata": {},
     "output_type": "display_data"
    },
    {
     "data": {
      "text/plain": [
       "b    6\n",
       "c    7\n",
       "e    9\n",
       "dtype: int64"
      ]
     },
     "metadata": {},
     "output_type": "display_data"
    },
    {
     "data": {
      "text/plain": [
       "b    6\n",
       "c    7\n",
       "e    9\n",
       "dtype: int64"
      ]
     },
     "metadata": {},
     "output_type": "display_data"
    }
   ],
   "source": [
    "my_series = pd.Series(data=[5, 6, 7, 8, 9, 10], index=['a', 'b', 'c', 'd', 'e', 'f'])\n",
    "display(my_series)\n",
    "display(my_series[['b','c','e']])\n",
    "display(my_series[[1,2,4]])"
   ]
  },
  {
   "cell_type": "markdown",
   "metadata": {},
   "source": [
    "Задание 2.4 (External resource)"
   ]
  },
  {
   "cell_type": "code",
   "execution_count": 30,
   "metadata": {},
   "outputs": [
    {
     "name": "stdout",
     "output_type": "stream",
     "text": [
      "35.294117647058826\n",
      "chlorhexidine    26\n",
      "cyntomycin       18\n",
      "afobazol          7\n",
      "dtype: int64\n"
     ]
    }
   ],
   "source": [
    "import pandas as pd\n",
    "#names = ['chlorhexidine', 'cyntomycin', 'afobazol'] \n",
    "#counts = [15, 18, 7]\n",
    "def create_medications(names, counts):\n",
    "    medications=pd.Series(index=names, data=counts)\n",
    "    return medications\n",
    "def get_percent(medications, name):\n",
    "    result=medications.loc[name]/sum(medications)*100\n",
    "    return result\n",
    "print(get_percent(name = 'cyntomycin', medications = create_medications(['chlorhexidine', 'cyntomycin', 'afobazol'],[26, 18, 7])))\n",
    "medications = create_medications(['chlorhexidine', 'cyntomycin', 'afobazol'],[26, 18, 7])\n",
    "print(medications)"
   ]
  },
  {
   "cell_type": "markdown",
   "metadata": {},
   "source": [
    "СОЗДАНИЕ DATAFRAME"
   ]
  },
  {
   "cell_type": "markdown",
   "metadata": {},
   "source": [
    "СПОСОБ 1\n",
    "\n",
    "Самый простой способ создания DataFrame — из словаря, ключами которого являются имена столбцов будущей таблицы, а значениями — списки, в которых хранится содержимое этих столбцов:"
   ]
  },
  {
   "cell_type": "code",
   "execution_count": 35,
   "metadata": {},
   "outputs": [
    {
     "data": {
      "text/html": [
       "<div>\n",
       "<style scoped>\n",
       "    .dataframe tbody tr th:only-of-type {\n",
       "        vertical-align: middle;\n",
       "    }\n",
       "\n",
       "    .dataframe tbody tr th {\n",
       "        vertical-align: top;\n",
       "    }\n",
       "\n",
       "    .dataframe thead th {\n",
       "        text-align: right;\n",
       "    }\n",
       "</style>\n",
       "<table border=\"1\" class=\"dataframe\">\n",
       "  <thead>\n",
       "    <tr style=\"text-align: right;\">\n",
       "      <th></th>\n",
       "      <th>country</th>\n",
       "      <th>population</th>\n",
       "      <th>square</th>\n",
       "    </tr>\n",
       "  </thead>\n",
       "  <tbody>\n",
       "    <tr>\n",
       "      <th>UK</th>\n",
       "      <td>Англия</td>\n",
       "      <td>56.29</td>\n",
       "      <td>133396</td>\n",
       "    </tr>\n",
       "    <tr>\n",
       "      <th>CA</th>\n",
       "      <td>Канада</td>\n",
       "      <td>38.05</td>\n",
       "      <td>9984670</td>\n",
       "    </tr>\n",
       "    <tr>\n",
       "      <th>US</th>\n",
       "      <td>США</td>\n",
       "      <td>322.28</td>\n",
       "      <td>9826630</td>\n",
       "    </tr>\n",
       "    <tr>\n",
       "      <th>RU</th>\n",
       "      <td>Россия</td>\n",
       "      <td>146.24</td>\n",
       "      <td>17125191</td>\n",
       "    </tr>\n",
       "    <tr>\n",
       "      <th>UA</th>\n",
       "      <td>Украина</td>\n",
       "      <td>45.50</td>\n",
       "      <td>603628</td>\n",
       "    </tr>\n",
       "    <tr>\n",
       "      <th>BY</th>\n",
       "      <td>Беларусь</td>\n",
       "      <td>9.50</td>\n",
       "      <td>207600</td>\n",
       "    </tr>\n",
       "    <tr>\n",
       "      <th>KZ</th>\n",
       "      <td>Казахстан</td>\n",
       "      <td>17.04</td>\n",
       "      <td>2724902</td>\n",
       "    </tr>\n",
       "  </tbody>\n",
       "</table>\n",
       "</div>"
      ],
      "text/plain": [
       "      country  population    square\n",
       "UK     Англия       56.29    133396\n",
       "CA     Канада       38.05   9984670\n",
       "US        США      322.28   9826630\n",
       "RU     Россия      146.24  17125191\n",
       "UA    Украина       45.50    603628\n",
       "BY   Беларусь        9.50    207600\n",
       "KZ  Казахстан       17.04   2724902"
      ]
     },
     "metadata": {},
     "output_type": "display_data"
    }
   ],
   "source": [
    "countries_df = pd.DataFrame({\n",
    "    'country': ['Англия', 'Канада', 'США', 'Россия', 'Украина', 'Беларусь', 'Казахстан'],\n",
    "    'population': [56.29, 38.05, 322.28, 146.24, 45.5, 9.5, 17.04],\n",
    "    'square': [133396, 9984670, 9826630, 17125191, 603628, 207600, 2724902]\n",
    "})\n",
    "countries_df.index = ['UK', 'CA', 'US', 'RU', 'UA', 'BY', 'KZ']\n",
    "display(countries_df)\n"
   ]
  },
  {
   "cell_type": "markdown",
   "metadata": {},
   "source": [
    "СПОСОБ 2\n",
    "\n",
    "Также DataFrame можно создать из вложенного списка, внутренние списки которого будут являться строками новой таблицы:"
   ]
  },
  {
   "cell_type": "code",
   "execution_count": 51,
   "metadata": {},
   "outputs": [
    {
     "data": {
      "text/plain": [
       "133396"
      ]
     },
     "metadata": {},
     "output_type": "display_data"
    },
    {
     "data": {
      "text/plain": [
       "country       Англия\n",
       "population     56.29\n",
       "square        133396\n",
       "Name: UK, dtype: object"
      ]
     },
     "metadata": {},
     "output_type": "display_data"
    },
    {
     "data": {
      "text/html": [
       "<div>\n",
       "<style scoped>\n",
       "    .dataframe tbody tr th:only-of-type {\n",
       "        vertical-align: middle;\n",
       "    }\n",
       "\n",
       "    .dataframe tbody tr th {\n",
       "        vertical-align: top;\n",
       "    }\n",
       "\n",
       "    .dataframe thead th {\n",
       "        text-align: right;\n",
       "    }\n",
       "</style>\n",
       "<table border=\"1\" class=\"dataframe\">\n",
       "  <thead>\n",
       "    <tr style=\"text-align: right;\">\n",
       "      <th></th>\n",
       "      <th>population</th>\n",
       "      <th>square</th>\n",
       "    </tr>\n",
       "  </thead>\n",
       "  <tbody>\n",
       "    <tr>\n",
       "      <th>UK</th>\n",
       "      <td>56.29</td>\n",
       "      <td>133396</td>\n",
       "    </tr>\n",
       "    <tr>\n",
       "      <th>CA</th>\n",
       "      <td>38.05</td>\n",
       "      <td>9984670</td>\n",
       "    </tr>\n",
       "  </tbody>\n",
       "</table>\n",
       "</div>"
      ],
      "text/plain": [
       "    population   square\n",
       "UK       56.29   133396\n",
       "CA       38.05  9984670"
      ]
     },
     "metadata": {},
     "output_type": "display_data"
    }
   ],
   "source": [
    "countries_df = pd.DataFrame(\n",
    "    data = [\n",
    "        ['Англия', 56.29, 133396],\n",
    "        ['Канада', 38.05, 9984670],\n",
    "        ['США', 322.28, 9826630],\n",
    "        ['Россия', 146.24, 17125191],\n",
    "        ['Украина', 45.5, 603628],\n",
    "        ['Беларусь', 9.5, 207600],\n",
    "        ['Казахстан', 17.04, 2724902]\n",
    "    ],\n",
    "    columns= ['country', 'population', 'square'],\n",
    "    index = ['UK', 'CA', 'US', 'RU', 'UA', 'BY', 'KZ']\n",
    ")\n",
    "\n",
    "#display(countries_df)\n",
    "#display(countries_df.mean(axis=0, numeric_only=True))\n",
    "#display(countries_df.mean(axis=1, numeric_only=True))\n",
    "#display(countries_df.population)\n",
    "#display(countries_df['population'])\n",
    "#display(type(countries_df.population))\n",
    "#display(type(countries_df['population']))\n",
    "display(countries_df.loc['UK','square'])\n",
    "display(countries_df.iloc[0,[0,1,2]])\n",
    "display(countries_df.iloc[0:2,1:3])\n",
    "\n",
    "\n"
   ]
  },
  {
   "cell_type": "markdown",
   "metadata": {},
   "source": [
    "Задание 3.5 (External resource)"
   ]
  },
  {
   "cell_type": "code",
   "execution_count": 64,
   "metadata": {},
   "outputs": [
    {
     "name": "stdout",
     "output_type": "stream",
     "text": [
      "      Income  Expenses\n",
      "2017     612       136\n",
      "2018     516       163\n",
      "2019     329       250\n",
      "2020     158       361\n",
      "353\n"
     ]
    }
   ],
   "source": [
    "import pandas as pd\n",
    "income = [478, 512, 196]\n",
    "expenses = [156, 130, 270]\n",
    "years = [2018, 2019, 2020]\n",
    "\n",
    "def create_companyDF(income, expenses, years):\n",
    "    df=pd.DataFrame({'Income':income, 'Expenses':expenses},\n",
    "    index=years)\n",
    "    return df    \n",
    "    \n",
    "def get_profit(df, year):\n",
    "    if year in df.index:\n",
    "        profit=df.loc[year,'Income']-df.loc[year,'Expenses']\n",
    "    else:\n",
    "        profit = None\n",
    "    return profit\n",
    "\n",
    "print(create_companyDF(income = [612, 516, 329, 158], expenses = [136, 163, 250, 361], years = [2017, 2018, 2019, 2020]))\n",
    "print(get_profit(year = 2018, df = create_companyDF([612, 516, 329, 158], [136,163,250,361], [2017,2018,2019,2020])))    "
   ]
  },
  {
   "cell_type": "markdown",
   "metadata": {},
   "source": [
    "4. Работа с различными источниками данных в Pandas"
   ]
  },
  {
   "cell_type": "markdown",
   "metadata": {},
   "source": [
    "Основные параметры метода DataFrame to_csv()"
   ]
  },
  {
   "cell_type": "markdown",
   "metadata": {},
   "source": [
    "path_or_buf — путь до файла, в который будет записан DataFrame (например, data/my_data.csv);\n",
    "sep — разделитель данных в выходном файле (по умолчанию ',');\n",
    "decimal — разделитель чисел на целую и дробную части в выходном файле (по умолчанию '.');\n",
    "columns — список столбцов, которые нужно записать в файл (по умолчанию записываются все столбцы);\n",
    "index — параметр, определяющий, требуется ли создавать дополнительный столбец с индексами строк в файле (по умолчанию True)."
   ]
  },
  {
   "cell_type": "code",
   "execution_count": 88,
   "metadata": {},
   "outputs": [],
   "source": [
    "countries_df = pd.DataFrame({\n",
    "    'country': ['Англия', 'Канада', 'США', 'Россия', 'Украина', 'Беларусь', 'Казахстан'],\n",
    "    'population': [56.29, 38.05, 322.28, 146.24, 45.5, 9.5, 17.04],\n",
    "    'square': [133396, 9984670, 9826630, 17125191, 603628, 207600, 2724902]\n",
    "})\n",
    "\n",
    "countries_df.to_csv('data/countries.csv', index=False, sep=';')\n",
    "#countries_df.to_excel('data/countries.xlsx')\n",
    "#display(countries_df)"
   ]
  },
  {
   "cell_type": "markdown",
   "metadata": {},
   "source": [
    "Основные параметры функции read_csv()"
   ]
  },
  {
   "cell_type": "markdown",
   "metadata": {},
   "source": [
    "filepath_or_buffer — путь до файла, который мы читаем;\n",
    "sep — разделитель данных (по умолчанию ',');\n",
    "decimal — разделитель чисел на целую и дробную часть в выходном файле (по умолчанию '.');\n",
    "names — список с названиями столбцов для чтения;\n",
    "skiprows — количество строк в файле, которые нужно пропустить (например, файл может содержать служебную информацию, которая нам не нужна)."
   ]
  },
  {
   "cell_type": "code",
   "execution_count": 1,
   "metadata": {},
   "outputs": [
    {
     "data": {
      "text/html": [
       "<div>\n",
       "<style scoped>\n",
       "    .dataframe tbody tr th:only-of-type {\n",
       "        vertical-align: middle;\n",
       "    }\n",
       "\n",
       "    .dataframe tbody tr th {\n",
       "        vertical-align: top;\n",
       "    }\n",
       "\n",
       "    .dataframe thead th {\n",
       "        text-align: right;\n",
       "    }\n",
       "</style>\n",
       "<table border=\"1\" class=\"dataframe\">\n",
       "  <thead>\n",
       "    <tr style=\"text-align: right;\">\n",
       "      <th></th>\n",
       "      <th></th>\n",
       "      <th>country</th>\n",
       "      <th>population</th>\n",
       "    </tr>\n",
       "  </thead>\n",
       "  <tbody>\n",
       "    <tr>\n",
       "      <th>0</th>\n",
       "      <th>Англия</th>\n",
       "      <td>56.29</td>\n",
       "      <td>133396</td>\n",
       "    </tr>\n",
       "    <tr>\n",
       "      <th>1</th>\n",
       "      <th>Канада</th>\n",
       "      <td>38.05</td>\n",
       "      <td>9984670</td>\n",
       "    </tr>\n",
       "    <tr>\n",
       "      <th>2</th>\n",
       "      <th>США</th>\n",
       "      <td>322.28</td>\n",
       "      <td>9826630</td>\n",
       "    </tr>\n",
       "    <tr>\n",
       "      <th>3</th>\n",
       "      <th>Россия</th>\n",
       "      <td>146.24</td>\n",
       "      <td>17125191</td>\n",
       "    </tr>\n",
       "    <tr>\n",
       "      <th>4</th>\n",
       "      <th>Украина</th>\n",
       "      <td>45.50</td>\n",
       "      <td>603628</td>\n",
       "    </tr>\n",
       "    <tr>\n",
       "      <th>5</th>\n",
       "      <th>Беларусь</th>\n",
       "      <td>9.50</td>\n",
       "      <td>207600</td>\n",
       "    </tr>\n",
       "    <tr>\n",
       "      <th>6</th>\n",
       "      <th>Казахстан</th>\n",
       "      <td>17.04</td>\n",
       "      <td>2724902</td>\n",
       "    </tr>\n",
       "  </tbody>\n",
       "</table>\n",
       "</div>"
      ],
      "text/plain": [
       "             country  population\n",
       "0 Англия       56.29      133396\n",
       "1 Канада       38.05     9984670\n",
       "2 США         322.28     9826630\n",
       "3 Россия      146.24    17125191\n",
       "4 Украина      45.50      603628\n",
       "5 Беларусь      9.50      207600\n",
       "6 Казахстан    17.04     2724902"
      ]
     },
     "metadata": {},
     "output_type": "display_data"
    }
   ],
   "source": [
    "import pandas as pd\n",
    "#countries_data = pd.read_csv('data/countries.csv', sep=';')\n",
    "countries_data=pd.read_excel('data/countries.xlsx', names=['country','population'])\n",
    "#display(countries_data)\n",
    "display(countries_data)"
   ]
  },
  {
   "cell_type": "code",
   "execution_count": null,
   "metadata": {},
   "outputs": [],
   "source": [
    "#data = pd.read_csv('https://raw.githubusercontent.com/esabunor/MLWorkspace/master/melb_data.csv')\n",
    "#data.to_csv('data/data.csv', index=False, sep=';')\n",
    "data = pd.read_csv('data/data.csv', sep=';')\n",
    "\n",
    "display(data)"
   ]
  },
  {
   "cell_type": "markdown",
   "metadata": {},
   "source": [
    "ЗАПИСЬ И ЧТЕНИЕ В ДРУГИХ ФОРМАТАХ"
   ]
  },
  {
   "cell_type": "markdown",
   "metadata": {},
   "source": [
    "Методы для записи таблиц в файлы отличных от csv форматов:\n",
    "\n",
    "to_excel() — запись DataFrame в формат Excel-таблицы (.xlsx);\n",
    "to_json() — запись DataFrame в формат JSON (.json);\n",
    "to_xml() — запись DataFrame в формат XML-документа (.xml);\n",
    "to_sql() — запись DataFrame в базу данных SQL (для реализации этого метода необходимо установить соединение с базой данных)."
   ]
  },
  {
   "cell_type": "markdown",
   "metadata": {},
   "source": [
    "Методы для чтения таблиц из файлов в отличных от csv форматах:\n",
    "\n",
    "read_excel() — чтение из формата Excel-таблицы (.xlsx) в DataFrame;\n",
    "read_json() — чтение из формата JSON (.json) в DataFrame;\n",
    "read_xml() — чтение из формата XML-документа (.xml) в DataFrame;\n",
    "read_sql() — чтение из базы данных SQL в DataFrame (также необходимо установить соединение с базой данных)."
   ]
  },
  {
   "cell_type": "code",
   "execution_count": 121,
   "metadata": {},
   "outputs": [
    {
     "data": {
      "text/plain": [
       "0        1480000.0\n",
       "1        1035000.0\n",
       "2        1465000.0\n",
       "3         850000.0\n",
       "4        1600000.0\n",
       "           ...    \n",
       "13575    1245000.0\n",
       "13576    1031000.0\n",
       "13577    1170000.0\n",
       "13578    2500000.0\n",
       "13579    1285000.0\n",
       "Name: Price, Length: 13580, dtype: float64"
      ]
     },
     "metadata": {},
     "output_type": "display_data"
    }
   ],
   "source": [
    "melb_data = pd.read_csv('data/melb_data.csv', sep=',')\n",
    "#display(melb_data)\n",
    "#display(melb_data.loc[15]) # только 15 строка!!!\n",
    "#display(melb_data.loc[15,'Price'])# конкретная колонка в 15 строке\n",
    "#display(melb_data.loc[90])\n",
    "#display(melb_data.loc[90,'Date'])\n",
    "#display(melb_data.loc[:,'Date'])\n",
    "display(melb_data.loc[:,'Price'])\n",
    "#display(round(   ((melb_data.loc[3521,'Landsize'])  /   (melb_data.loc[1690,'Landsize'])),10   ))"
   ]
  },
  {
   "cell_type": "markdown",
   "metadata": {},
   "source": [
    "6. Исследование структуры DataFrame"
   ]
  },
  {
   "cell_type": "code",
   "execution_count": 204,
   "metadata": {},
   "outputs": [
    {
     "data": {
      "text/plain": [
       "(13580, 23)"
      ]
     },
     "metadata": {},
     "output_type": "display_data"
    },
    {
     "data": {
      "text/plain": [
       "0    Northern Metropolitan\n",
       "Name: Regionname, dtype: object"
      ]
     },
     "execution_count": 204,
     "metadata": {},
     "output_type": "execute_result"
    }
   ],
   "source": [
    "melb_data = pd.read_csv('data/melb_data.csv', sep=',')\n",
    "#display(melb_data.head())\n",
    "#melb_data.tail(7)\n",
    "display(melb_data.shape)\n",
    "melb_data['Car'] = melb_data['Car'].astype('int64')\n",
    "melb_data['Bedroom'] = melb_data['Bedroom'].astype('int64')\n",
    "melb_data['Bathroom'] = melb_data['Bathroom'].astype('int64')\n",
    "melb_data['Propertycount'] = melb_data['Propertycount'].astype('int64')\n",
    "melb_data['YearBuilt'] = melb_data['YearBuilt'].astype('int64')\n",
    "#melb_data.info()\n",
    "#melb_data.describe().loc[:, ['Distance', 'BuildingArea' , 'Price']]\n",
    "#melb_data.describe(include=['object'])\n",
    "#melb_data['Regionname'].value_counts(normalize=True)\n",
    "#melb_data.describe().loc[:, ['Distance']]\n",
    "#melb_data['Type'].value_counts(normalize=True)\n",
    "#print(melb_data['Price'].mean()) #Вычислим среднюю цену на объекты недвижимости:\n",
    "#print(melb_data['Car'].max())# Вычислим среднюю цену на объекты недвижимости\n",
    "\n",
    "#rate = 0.12\n",
    "#income = melb_data['Price'].sum() * rate\n",
    "#print('Total income of real estate agencies:', round(income, 2))\n",
    "\n",
    "#print(melb_data['Rooms'].mode())\n",
    "#melb_data['Regionname'].mode()\n",
    "#melb_data['Price'].std()\n",
    "#melb_data['Propertycount'].max()\n",
    "#round(melb_data['Distance'].std())\n",
    "\n",
    "landsize_median = melb_data['BuildingArea'].median() \n",
    "landsize_mean =  melb_data['BuildingArea'].mean()\n",
    "#print(   round ((abs   ((landsize_median-landsize_mean)  /landsize_mean)   )*100,2))\n",
    "#melb_data['Bedroom'].mode()\n",
    "mask=melb_data['Price']>2000000\n",
    "#mask \n",
    "#display(melb_data[mask].head())\n",
    "#melb_data[melb_data['Price']>2000000] \n",
    "melb_data[melb_data['Rooms']==3].shape\n",
    "melb_data[(melb_data['Rooms']==3)&(melb_data['Price']<300000)].shape\n",
    "melb_data[((melb_data['Rooms']==3)| (melb_data['BuildingArea']>100))&(melb_data['Price']<300000)].shape\n",
    "melb_data[melb_data['Type']=='t']['Rooms'].max()\n",
    "mean_price = melb_data['Price'].mean()\n",
    "melb_data[melb_data['Price'] > mean_price]['BuildingArea'].median()\n",
    "\n",
    "melb_data[melb_data['Bathroom']==0].shape[0]# Задание 8.1\n",
    "melb_data[(melb_data['SellerG']=='Nelson')&(melb_data['Price']>3000000)].shape[0] #Задание 8.2\n",
    "\n",
    "melb_data[(melb_data['BuildingArea']==0)]['Price'].min() #Задание 8.3\n",
    "\n",
    "melb_data[((melb_data['Rooms']==3)| (melb_data['BuildingArea']>100))&(melb_data['Price']<300000)].shape\n",
    "round(melb_data[(melb_data['Price']<1000000) & ((melb_data['Rooms']>5) | (melb_data['YearBuilt']>2015))]['Price'].mean())#Задание 8.4\n",
    "\n",
    "melb_data[(melb_data['Type'] == 'h') & (melb_data['Price'] < 3000000)]['Regionname'].mode() #Задание 8.5"
   ]
  },
  {
   "cell_type": "markdown",
   "metadata": {},
   "source": [
    " 9. Закрепление знаний"
   ]
  },
  {
   "cell_type": "code",
   "execution_count": 228,
   "metadata": {},
   "outputs": [
    {
     "name": "stdout",
     "output_type": "stream",
     "text": [
      "6\n"
     ]
    }
   ],
   "source": [
    "student_data = pd.read_csv('data/students_performance.csv', sep=',')\n",
    "#display(student_data.head())\n",
    "#display(student_data.tail())\n",
    "#display(student_data.shape[0]) #Задание 9.1\n",
    "#display(student_data.loc[155,'writing score'])#Задание 9.2\n",
    "#display(student_data.info()) #Задание 9.3, 9.4, 9.5\n",
    "#display(round(student_data['math score'].mean())) #Задание 9.6\n",
    "#display(student_data['race/ethnicity'].mode()) #Задание 9.7\n",
    "#display(round(student_data[student_data['test preparation course'] == 'completed']['reading score'].mean())) #Задание 9.8\n",
    "#display(student_data[student_data['math score']==0].shape[0]) #Задание 9.9\n",
    "\n",
    "#mask1= round(student_data[student_data['lunch'] == 'free/reduced']['math score'].mean()) #Задание 9.10\n",
    "#mask2=round(student_data[student_data['lunch'] == 'standard']['math score'].mean()) #Задание 9.10\n",
    "#display(mask2>mask1) #Задание 9.10\n",
    "\n",
    "#display(student_data['parental level of education'].value_counts(normalize = True)) #Задание 9.11\n",
    "\n",
    "mask3 = student_data[student_data['race/ethnicity'] == 'group A']['writing score'].median()\n",
    "mask4 = student_data[student_data['race/ethnicity'] == 'group C']['writing score'].mean()\n",
    "print(round(abs(mask3 - mask4)))"
   ]
  }
 ],
 "metadata": {
  "kernelspec": {
   "display_name": "Python 3",
   "language": "python",
   "name": "python3"
  },
  "language_info": {
   "codemirror_mode": {
    "name": "ipython",
    "version": 3
   },
   "file_extension": ".py",
   "mimetype": "text/x-python",
   "name": "python",
   "nbconvert_exporter": "python",
   "pygments_lexer": "ipython3",
   "version": "3.9.10"
  },
  "orig_nbformat": 4
 },
 "nbformat": 4,
 "nbformat_minor": 2
}
