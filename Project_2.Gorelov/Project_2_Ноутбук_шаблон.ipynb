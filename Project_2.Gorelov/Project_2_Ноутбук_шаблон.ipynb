{
 "cells": [
  {
   "cell_type": "markdown",
   "id": "42289889-bd57-434e-9637-d3e354756316",
   "metadata": {
    "id": "42289889-bd57-434e-9637-d3e354756316"
   },
   "source": [
    "<center> <img src = https://raw.githubusercontent.com/AndreyRysistov/DatasetsForPandas/main/hh%20label.jpg alt=\"drawing\" style=\"width:400px;\">"
   ]
  },
  {
   "cell_type": "markdown",
   "id": "829cb75b-f14e-4ba8-9195-7ba929a7d656",
   "metadata": {
    "id": "829cb75b-f14e-4ba8-9195-7ba929a7d656",
    "tags": []
   },
   "source": [
    "# <center> Проект: Анализ вакансий из HeadHunter\n",
    "   "
   ]
  },
  {
   "cell_type": "code",
   "execution_count": 134,
   "id": "dccfde33-2452-43fb-a8a5-5c6ebc02a71d",
   "metadata": {
    "id": "dccfde33-2452-43fb-a8a5-5c6ebc02a71d"
   },
   "outputs": [],
   "source": [
    "import pandas as pd\n",
    "import psycopg2\n",
    "import seaborn as sns\n",
    "import matplotlib.pyplot as plt\n",
    "%matplotlib inline \n"
   ]
  },
  {
   "cell_type": "code",
   "execution_count": 135,
   "id": "oVKH4ehvf8Ay",
   "metadata": {
    "id": "oVKH4ehvf8Ay"
   },
   "outputs": [],
   "source": [
    "# вставьте сюда параметры подключения из юнита 1. Работа с базой данных из Python \n",
    "connection = psycopg2.connect(\n",
    "    dbname='project_sql',\n",
    "    user='skillfactory',\n",
    "    host='84.201.134.129',\n",
    "    password='cCkxxLVrDE8EbvjueeMedPKt',\n",
    "    port=5432\n",
    ")\n"
   ]
  },
  {
   "cell_type": "markdown",
   "id": "0dc6476b-7a00-44f1-ac93-6e3baed33a29",
   "metadata": {
    "id": "0dc6476b-7a00-44f1-ac93-6e3baed33a29"
   },
   "source": [
    "# Юнит 3. Предварительный анализ данных"
   ]
  },
  {
   "cell_type": "markdown",
   "id": "889782b6-8d1c-410e-8920-e57f27917c64",
   "metadata": {
    "id": "889782b6-8d1c-410e-8920-e57f27917c64"
   },
   "source": [
    "1. Напишите запрос, который посчитает количество вакансий в нашей базе (вакансии находятся в таблице vacancies). "
   ]
  },
  {
   "cell_type": "code",
   "execution_count": 136,
   "id": "bc39e68e-ed02-4ee2-9235-7258a2f867a8",
   "metadata": {
    "id": "bc39e68e-ed02-4ee2-9235-7258a2f867a8"
   },
   "outputs": [],
   "source": [
    "# Для SQL достаточно посчитать количество `id` в таблице вакансий с помощью count.\n",
    "\n",
    "query_3_1 = f'''select count(id)\n",
    "                from vacancies\n",
    "             '''"
   ]
  },
  {
   "cell_type": "code",
   "execution_count": 137,
   "id": "7mAwtsk4hEHY",
   "metadata": {
    "id": "7mAwtsk4hEHY"
   },
   "outputs": [
    {
     "name": "stderr",
     "output_type": "stream",
     "text": [
      "C:\\Users\\molde\\AppData\\Local\\Temp\\ipykernel_20364\\3074979420.py:5: UserWarning: pandas only supports SQLAlchemy connectable (engine/connection) or database string URI or sqlite3 DBAPI2 connection. Other DBAPI2 objects are not tested. Please consider using SQLAlchemy.\n",
      "  df3_1 = pd.read_sql_query(query_3_1, connection)\n"
     ]
    },
    {
     "data": {
      "text/html": [
       "<div>\n",
       "<style scoped>\n",
       "    .dataframe tbody tr th:only-of-type {\n",
       "        vertical-align: middle;\n",
       "    }\n",
       "\n",
       "    .dataframe tbody tr th {\n",
       "        vertical-align: top;\n",
       "    }\n",
       "\n",
       "    .dataframe thead th {\n",
       "        text-align: right;\n",
       "    }\n",
       "</style>\n",
       "<table border=\"1\" class=\"dataframe\">\n",
       "  <thead>\n",
       "    <tr style=\"text-align: right;\">\n",
       "      <th></th>\n",
       "      <th>count</th>\n",
       "    </tr>\n",
       "  </thead>\n",
       "  <tbody>\n",
       "    <tr>\n",
       "      <th>0</th>\n",
       "      <td>49197</td>\n",
       "    </tr>\n",
       "  </tbody>\n",
       "</table>\n",
       "</div>"
      ],
      "text/plain": [
       "   count\n",
       "0  49197"
      ]
     },
     "execution_count": 137,
     "metadata": {},
     "output_type": "execute_result"
    }
   ],
   "source": [
    "# В качестве результата выведем полученное количество строк в виде ДФ.\n",
    "# Уточнять уникальность (distinct) не понадобилось,\n",
    "# т.к. само значение `id` вакансий предполагает уникальность каждой вакансии.\n",
    "\n",
    "df3_1 = pd.read_sql_query(query_3_1, connection)\n",
    "df3_1"
   ]
  },
  {
   "cell_type": "markdown",
   "id": "a3278f4c",
   "metadata": {},
   "source": [
    "##### Примечание. Второй способ:\n",
    "Для ответа достаточно свывести всю таблицу вакансий и затем передать её в дата-фрейм (ДФ), где количество строк в ДФ и будет нащим ответом\n",
    "Для `SQL` достаточно было посчитать количество `id` в таблице вакансий с помощью `count`:\n",
    "```sql\n",
    "select * \n",
    "from  from vacancies\n",
    "```"
   ]
  },
  {
   "cell_type": "markdown",
   "id": "b583485d-1f9e-494e-ada4-80ffff7c53d6",
   "metadata": {
    "id": "b583485d-1f9e-494e-ada4-80ffff7c53d6"
   },
   "source": [
    "2. Напишите запрос, который посчитает количество работодателей (таблица employers). "
   ]
  },
  {
   "cell_type": "code",
   "execution_count": 138,
   "id": "5408c52c-3407-4a63-b25b-1aafa2322d28",
   "metadata": {
    "id": "5408c52c-3407-4a63-b25b-1aafa2322d28"
   },
   "outputs": [],
   "source": [
    "# Аналогично предыдущему запросу выводим таблицу работадателей:\n",
    "query_3_2 = f'''select count(id)\n",
    "                from employers\n",
    "             '''"
   ]
  },
  {
   "cell_type": "code",
   "execution_count": 139,
   "id": "jVL4eshKhdqc",
   "metadata": {
    "id": "jVL4eshKhdqc"
   },
   "outputs": [
    {
     "name": "stderr",
     "output_type": "stream",
     "text": [
      "C:\\Users\\molde\\AppData\\Local\\Temp\\ipykernel_20364\\3073514076.py:2: UserWarning: pandas only supports SQLAlchemy connectable (engine/connection) or database string URI or sqlite3 DBAPI2 connection. Other DBAPI2 objects are not tested. Please consider using SQLAlchemy.\n",
      "  df3_2 = pd.read_sql_query(query_3_2, connection)\n"
     ]
    },
    {
     "data": {
      "text/html": [
       "<div>\n",
       "<style scoped>\n",
       "    .dataframe tbody tr th:only-of-type {\n",
       "        vertical-align: middle;\n",
       "    }\n",
       "\n",
       "    .dataframe tbody tr th {\n",
       "        vertical-align: top;\n",
       "    }\n",
       "\n",
       "    .dataframe thead th {\n",
       "        text-align: right;\n",
       "    }\n",
       "</style>\n",
       "<table border=\"1\" class=\"dataframe\">\n",
       "  <thead>\n",
       "    <tr style=\"text-align: right;\">\n",
       "      <th></th>\n",
       "      <th>count</th>\n",
       "    </tr>\n",
       "  </thead>\n",
       "  <tbody>\n",
       "    <tr>\n",
       "      <th>0</th>\n",
       "      <td>23501</td>\n",
       "    </tr>\n",
       "  </tbody>\n",
       "</table>\n",
       "</div>"
      ],
      "text/plain": [
       "   count\n",
       "0  23501"
      ]
     },
     "execution_count": 139,
     "metadata": {},
     "output_type": "execute_result"
    }
   ],
   "source": [
    "# В качестве результата запроса выведем ДФ c работадателями, где количество строк и столбцов будет указано.\n",
    "df3_2 = pd.read_sql_query(query_3_2, connection)\n",
    "df3_2"
   ]
  },
  {
   "cell_type": "markdown",
   "id": "acce2e02",
   "metadata": {},
   "source": [
    "Из двух прежставленных таблиц  (**Вакансии** и **Работадатели**) можно сделать вывод, что вакансий более чем в два раза больше, чем работадателей, что вполне логично. Следjвательно, некоторые работадатели разместили более двух вакансий. "
   ]
  },
  {
   "cell_type": "markdown",
   "id": "a2bfff1f-c975-4bf6-84be-2185d79dcb76",
   "metadata": {
    "id": "a2bfff1f-c975-4bf6-84be-2185d79dcb76"
   },
   "source": [
    "3. Посчитате с помощью запроса количество регионов (таблица areas)."
   ]
  },
  {
   "cell_type": "code",
   "execution_count": 140,
   "id": "1m8QJwBYhey6",
   "metadata": {
    "id": "1m8QJwBYhey6"
   },
   "outputs": [
    {
     "name": "stderr",
     "output_type": "stream",
     "text": [
      "C:\\Users\\molde\\AppData\\Local\\Temp\\ipykernel_20364\\3838145882.py:6: UserWarning: pandas only supports SQLAlchemy connectable (engine/connection) or database string URI or sqlite3 DBAPI2 connection. Other DBAPI2 objects are not tested. Please consider using SQLAlchemy.\n",
      "  df3_3 = pd.read_sql_query(query3_3, connection)\n"
     ]
    },
    {
     "data": {
      "text/html": [
       "<div>\n",
       "<style scoped>\n",
       "    .dataframe tbody tr th:only-of-type {\n",
       "        vertical-align: middle;\n",
       "    }\n",
       "\n",
       "    .dataframe tbody tr th {\n",
       "        vertical-align: top;\n",
       "    }\n",
       "\n",
       "    .dataframe thead th {\n",
       "        text-align: right;\n",
       "    }\n",
       "</style>\n",
       "<table border=\"1\" class=\"dataframe\">\n",
       "  <thead>\n",
       "    <tr style=\"text-align: right;\">\n",
       "      <th></th>\n",
       "      <th>id</th>\n",
       "      <th>name</th>\n",
       "    </tr>\n",
       "  </thead>\n",
       "  <tbody>\n",
       "    <tr>\n",
       "      <th>0</th>\n",
       "      <td>2758</td>\n",
       "      <td>Тбилиси</td>\n",
       "    </tr>\n",
       "    <tr>\n",
       "      <th>1</th>\n",
       "      <td>8</td>\n",
       "      <td>Майкоп</td>\n",
       "    </tr>\n",
       "    <tr>\n",
       "      <th>2</th>\n",
       "      <td>1180</td>\n",
       "      <td>Нерюнгри</td>\n",
       "    </tr>\n",
       "    <tr>\n",
       "      <th>3</th>\n",
       "      <td>1240</td>\n",
       "      <td>Новокузнецк</td>\n",
       "    </tr>\n",
       "    <tr>\n",
       "      <th>4</th>\n",
       "      <td>2</td>\n",
       "      <td>Санкт-Петербург</td>\n",
       "    </tr>\n",
       "    <tr>\n",
       "      <th>...</th>\n",
       "      <td>...</td>\n",
       "      <td>...</td>\n",
       "    </tr>\n",
       "    <tr>\n",
       "      <th>1357</th>\n",
       "      <td>5043</td>\n",
       "      <td>Звёздный Городок</td>\n",
       "    </tr>\n",
       "    <tr>\n",
       "      <th>1358</th>\n",
       "      <td>3934</td>\n",
       "      <td>Воротынск\\n</td>\n",
       "    </tr>\n",
       "    <tr>\n",
       "      <th>1359</th>\n",
       "      <td>4825</td>\n",
       "      <td>Чемал</td>\n",
       "    </tr>\n",
       "    <tr>\n",
       "      <th>1360</th>\n",
       "      <td>3708</td>\n",
       "      <td>Усть-Нера</td>\n",
       "    </tr>\n",
       "    <tr>\n",
       "      <th>1361</th>\n",
       "      <td>2432</td>\n",
       "      <td>Каневская</td>\n",
       "    </tr>\n",
       "  </tbody>\n",
       "</table>\n",
       "<p>1362 rows × 2 columns</p>\n",
       "</div>"
      ],
      "text/plain": [
       "        id              name\n",
       "0     2758           Тбилиси\n",
       "1        8            Майкоп\n",
       "2     1180          Нерюнгри\n",
       "3     1240       Новокузнецк\n",
       "4        2   Санкт-Петербург\n",
       "...    ...               ...\n",
       "1357  5043  Звёздный Городок\n",
       "1358  3934       Воротынск\\n\n",
       "1359  4825             Чемал\n",
       "1360  3708         Усть-Нера\n",
       "1361  2432         Каневская\n",
       "\n",
       "[1362 rows x 2 columns]"
      ]
     },
     "execution_count": 140,
     "metadata": {},
     "output_type": "execute_result"
    }
   ],
   "source": [
    "# Обрамся к таблице с регионами (areas) и  выведем таблицу в виде ДФ.\n",
    "query3_3 = f'''select * --\n",
    "               from areas\n",
    "          \n",
    "            '''\n",
    "df3_3 = pd.read_sql_query(query3_3, connection)\n",
    "df3_3"
   ]
  },
  {
   "cell_type": "markdown",
   "id": "e1efa2d7",
   "metadata": {
    "id": "EZsn9tlfhe7f"
   },
   "source": [
    "Этот запрос можно как и предыдущие посчитать через count():\n",
    "```sql\n",
    "select \n",
    "    count(id)\n",
    "from  from areas\n",
    "```\n",
    "Стоит отметить, что если посчитать количество уникальных регионов в таблице **Вакансий** или **Работодателей**, то их значения окажется меньше:\n",
    "```sql\n",
    "-- количество регионов в таблице с вакансиями\n",
    "select \n",
    "    count(distinct area_id)\n",
    "from vacancies\n",
    "```\n",
    "Ответ:769.\n",
    "\n",
    "```sql\n",
    "-- количество регионов в таблице с работодателями\n",
    "select \n",
    "    count(distinct area)\n",
    "from employers\n",
    "```\n",
    "Ответ:654.\n",
    " \n",
    " \n",
    "Это говорит о том, что не все работадатели зарегистрированы в регионах с вакансиями и часто эти регионы могут не совпадать. Например,у работадателя есть головной офис (место его регистрации) и несколько дополнительных, которые не требуют регистрации как филиалы. А вакансия открывается как раз в допофисе."
   ]
  },
  {
   "cell_type": "markdown",
   "id": "41bb59f3-53cc-4a67-a5bc-bedf573955e4",
   "metadata": {
    "id": "41bb59f3-53cc-4a67-a5bc-bedf573955e4"
   },
   "source": [
    "4. Посчитате с помощью запроса количество сфер деятельности в базе (таблица industries)."
   ]
  },
  {
   "cell_type": "code",
   "execution_count": 141,
   "id": "d286cf4c-707b-4cd2-9190-7ab3587d04a1",
   "metadata": {
    "id": "d286cf4c-707b-4cd2-9190-7ab3587d04a1"
   },
   "outputs": [
    {
     "name": "stderr",
     "output_type": "stream",
     "text": [
      "C:\\Users\\molde\\AppData\\Local\\Temp\\ipykernel_20364\\2416364935.py:7: UserWarning: pandas only supports SQLAlchemy connectable (engine/connection) or database string URI or sqlite3 DBAPI2 connection. Other DBAPI2 objects are not tested. Please consider using SQLAlchemy.\n",
      "  df3_4 = pd.read_sql_query(query_3_4, connection)\n"
     ]
    },
    {
     "data": {
      "text/html": [
       "<div>\n",
       "<style scoped>\n",
       "    .dataframe tbody tr th:only-of-type {\n",
       "        vertical-align: middle;\n",
       "    }\n",
       "\n",
       "    .dataframe tbody tr th {\n",
       "        vertical-align: top;\n",
       "    }\n",
       "\n",
       "    .dataframe thead th {\n",
       "        text-align: right;\n",
       "    }\n",
       "</style>\n",
       "<table border=\"1\" class=\"dataframe\">\n",
       "  <thead>\n",
       "    <tr style=\"text-align: right;\">\n",
       "      <th></th>\n",
       "      <th>id</th>\n",
       "      <th>name</th>\n",
       "    </tr>\n",
       "  </thead>\n",
       "  <tbody>\n",
       "    <tr>\n",
       "      <th>0</th>\n",
       "      <td>7.540</td>\n",
       "      <td>Разработка программного обеспечения</td>\n",
       "    </tr>\n",
       "    <tr>\n",
       "      <th>1</th>\n",
       "      <td>7.539</td>\n",
       "      <td>Системная интеграция,  автоматизации технологи...</td>\n",
       "    </tr>\n",
       "    <tr>\n",
       "      <th>2</th>\n",
       "      <td>27.550</td>\n",
       "      <td>Безалкогольные напитки (производство)</td>\n",
       "    </tr>\n",
       "    <tr>\n",
       "      <th>3</th>\n",
       "      <td>27.551</td>\n",
       "      <td>Безалкогольные напитки (продвижение, оптовая т...</td>\n",
       "    </tr>\n",
       "    <tr>\n",
       "      <th>4</th>\n",
       "      <td>13.664</td>\n",
       "      <td>Управление и эксплуатация недвижимости</td>\n",
       "    </tr>\n",
       "    <tr>\n",
       "      <th>...</th>\n",
       "      <td>...</td>\n",
       "      <td>...</td>\n",
       "    </tr>\n",
       "    <tr>\n",
       "      <th>289</th>\n",
       "      <td>37.626</td>\n",
       "      <td>Ассоциация в сфере культуры, искусства</td>\n",
       "    </tr>\n",
       "    <tr>\n",
       "      <th>290</th>\n",
       "      <td>42.603</td>\n",
       "      <td>Табак  (производство)</td>\n",
       "    </tr>\n",
       "    <tr>\n",
       "      <th>291</th>\n",
       "      <td>29.532</td>\n",
       "      <td>Рыболовство, рыбоводство</td>\n",
       "    </tr>\n",
       "    <tr>\n",
       "      <th>292</th>\n",
       "      <td>37.627</td>\n",
       "      <td>Благотворительная организация</td>\n",
       "    </tr>\n",
       "    <tr>\n",
       "      <th>293</th>\n",
       "      <td>388.505</td>\n",
       "      <td>Оборудование для деревообработки, заготовки ле...</td>\n",
       "    </tr>\n",
       "  </tbody>\n",
       "</table>\n",
       "<p>294 rows × 2 columns</p>\n",
       "</div>"
      ],
      "text/plain": [
       "          id                                               name\n",
       "0      7.540                Разработка программного обеспечения\n",
       "1      7.539  Системная интеграция,  автоматизации технологи...\n",
       "2     27.550              Безалкогольные напитки (производство)\n",
       "3     27.551  Безалкогольные напитки (продвижение, оптовая т...\n",
       "4     13.664             Управление и эксплуатация недвижимости\n",
       "..       ...                                                ...\n",
       "289   37.626             Ассоциация в сфере культуры, искусства\n",
       "290   42.603                              Табак  (производство)\n",
       "291   29.532                           Рыболовство, рыбоводство\n",
       "292   37.627                      Благотворительная организация\n",
       "293  388.505  Оборудование для деревообработки, заготовки ле...\n",
       "\n",
       "[294 rows x 2 columns]"
      ]
     },
     "execution_count": 141,
     "metadata": {},
     "output_type": "execute_result"
    }
   ],
   "source": [
    "# Все делаем аналогично предыдущим запросам: выводим таблицу со сферами деятельности в виде ДФ,\n",
    "# где будет отпражено число строк:\n",
    "query_3_4 = f'''select *\n",
    "               from industries\n",
    "          \n",
    "            '''\n",
    "df3_4 = pd.read_sql_query(query_3_4, connection)\n",
    "df3_4"
   ]
  },
  {
   "cell_type": "markdown",
   "id": "39979afe",
   "metadata": {
    "id": "JYAaoZ4qhfzW"
   },
   "source": [
    "Аналогично предыдущим запросам можно посчитать количество `id` в таблице `industries` с помошью `count`:\n",
    "```sql\n",
    "select\n",
    "    count(id)\n",
    "from industries\n",
    "```\n",
    "Ответ:294.\n",
    "\n",
    "Поскольку справочник предполагает уникальность значений, то проверять уникальность с помощью `distinct` не нужно."
   ]
  },
  {
   "cell_type": "markdown",
   "id": "9a8a2181-6914-448b-85f1-38f5f18b8a93",
   "metadata": {
    "id": "9a8a2181-6914-448b-85f1-38f5f18b8a93"
   },
   "source": [
    "***"
   ]
  },
  {
   "cell_type": "markdown",
   "id": "8f6ab781",
   "metadata": {
    "id": "be4e9bd3-a4db-4a20-82fb-6b02fc2957e0"
   },
   "source": [
    "### Выводы по предварительному анализу данных:\n",
    "\n",
    "Как уже отмечалось, количество вакансий в основной таблице в 2,093 раза превышает количество работодателей в справочнике. Если же мы посмотрим на количество уникальных работодателей в таблице с вакансиями, то их окажется всего 14906 , что в 3,3 раза меньше общего числа вакансий. Следовательно, некоторые работодатели предлагают как минимум 4 вакансии и более. И больше 36% общего числа работодателей в справочнике вообще не размещали вакансий в рассматриваемый период. \n",
    "\n",
    "Также количество регионов в справочнике превышает количество регионов в таблице с вакансиями почти в 2 (1,77) раза. Кроме того, количество регионов, где зарегистрированы работодатели, меньше регионов в таблице с вакансиями. Это говорит о том, что место регистрации работодателя не всегда совпадает с местом региона вакансии. Также некоторые работодатели размещают вакансии в разных регионах, отличных от места регистрации.\n",
    "\n",
    "Касательно сфер деятельности, их значительно меньше количества компаний, что вполне логично. Скорее всего некоторые компании имеют несколько разных видов деятельности, но это нужно проверять отдельными запросами.\n",
    "\n"
   ]
  },
  {
   "cell_type": "markdown",
   "id": "8d62a9f3-f64e-4fe7-bdac-c4dffa16155e",
   "metadata": {
    "id": "8d62a9f3-f64e-4fe7-bdac-c4dffa16155e"
   },
   "source": [
    "# Юнит 4. Детальный анализ вакансий"
   ]
  },
  {
   "cell_type": "markdown",
   "id": "93053d3d-b284-481a-9cf7-012d7014c0e0",
   "metadata": {
    "id": "93053d3d-b284-481a-9cf7-012d7014c0e0"
   },
   "source": [
    "1. Напишите запрос, который позволит узнать, сколько (cnt) вакансий в каждом регионе (area).\n",
    "Отсортируйте по количеству вакансий в порядке убывания."
   ]
  },
  {
   "cell_type": "code",
   "execution_count": 142,
   "id": "3f069da6-fdc9-4ae7-b514-fafe2675efd3",
   "metadata": {
    "id": "3f069da6-fdc9-4ae7-b514-fafe2675efd3"
   },
   "outputs": [],
   "source": [
    "# Для выполнения задачи нам потребуется соединить таблицу вакансий с таблицей регионов и вывести нужные поля:\n",
    "query_4_1 = f'''select \n",
    "                  a.name area,\n",
    "                  count(a.name) cnt\n",
    "               from vacancies v\n",
    "                   join areas a on a.id = v.area_id  \n",
    "               group by area     -- требуется группировка по регионам для подсчета количества строк в каждом регионе\n",
    "               order by cnt desc -- сортируем по убыванию\n",
    "               limit 20          -- ограничим вывод первых двадцати регионов с помощью limit\n",
    "            '''"
   ]
  },
  {
   "cell_type": "code",
   "execution_count": 143,
   "id": "P7QL86hrjhRJ",
   "metadata": {
    "id": "P7QL86hrjhRJ"
   },
   "outputs": [
    {
     "name": "stderr",
     "output_type": "stream",
     "text": [
      "C:\\Users\\molde\\AppData\\Local\\Temp\\ipykernel_20364\\1595708491.py:1: UserWarning: pandas only supports SQLAlchemy connectable (engine/connection) or database string URI or sqlite3 DBAPI2 connection. Other DBAPI2 objects are not tested. Please consider using SQLAlchemy.\n",
      "  df4_1 = pd.read_sql_query(query_4_1, connection)\n"
     ]
    },
    {
     "data": {
      "text/html": [
       "<div>\n",
       "<style scoped>\n",
       "    .dataframe tbody tr th:only-of-type {\n",
       "        vertical-align: middle;\n",
       "    }\n",
       "\n",
       "    .dataframe tbody tr th {\n",
       "        vertical-align: top;\n",
       "    }\n",
       "\n",
       "    .dataframe thead th {\n",
       "        text-align: right;\n",
       "    }\n",
       "</style>\n",
       "<table border=\"1\" class=\"dataframe\">\n",
       "  <thead>\n",
       "    <tr style=\"text-align: right;\">\n",
       "      <th></th>\n",
       "      <th>area</th>\n",
       "      <th>cnt</th>\n",
       "    </tr>\n",
       "  </thead>\n",
       "  <tbody>\n",
       "    <tr>\n",
       "      <th>0</th>\n",
       "      <td>Москва</td>\n",
       "      <td>5333</td>\n",
       "    </tr>\n",
       "    <tr>\n",
       "      <th>1</th>\n",
       "      <td>Санкт-Петербург</td>\n",
       "      <td>2851</td>\n",
       "    </tr>\n",
       "    <tr>\n",
       "      <th>2</th>\n",
       "      <td>Минск</td>\n",
       "      <td>2112</td>\n",
       "    </tr>\n",
       "    <tr>\n",
       "      <th>3</th>\n",
       "      <td>Новосибирск</td>\n",
       "      <td>2006</td>\n",
       "    </tr>\n",
       "    <tr>\n",
       "      <th>4</th>\n",
       "      <td>Алматы</td>\n",
       "      <td>1892</td>\n",
       "    </tr>\n",
       "    <tr>\n",
       "      <th>5</th>\n",
       "      <td>Екатеринбург</td>\n",
       "      <td>1698</td>\n",
       "    </tr>\n",
       "    <tr>\n",
       "      <th>6</th>\n",
       "      <td>Нижний Новгород</td>\n",
       "      <td>1670</td>\n",
       "    </tr>\n",
       "    <tr>\n",
       "      <th>7</th>\n",
       "      <td>Казань</td>\n",
       "      <td>1415</td>\n",
       "    </tr>\n",
       "    <tr>\n",
       "      <th>8</th>\n",
       "      <td>Краснодар</td>\n",
       "      <td>1301</td>\n",
       "    </tr>\n",
       "    <tr>\n",
       "      <th>9</th>\n",
       "      <td>Самара</td>\n",
       "      <td>1144</td>\n",
       "    </tr>\n",
       "    <tr>\n",
       "      <th>10</th>\n",
       "      <td>Ростов-на-Дону</td>\n",
       "      <td>1131</td>\n",
       "    </tr>\n",
       "    <tr>\n",
       "      <th>11</th>\n",
       "      <td>Воронеж</td>\n",
       "      <td>1063</td>\n",
       "    </tr>\n",
       "    <tr>\n",
       "      <th>12</th>\n",
       "      <td>Ташкент</td>\n",
       "      <td>851</td>\n",
       "    </tr>\n",
       "    <tr>\n",
       "      <th>13</th>\n",
       "      <td>Красноярск</td>\n",
       "      <td>847</td>\n",
       "    </tr>\n",
       "    <tr>\n",
       "      <th>14</th>\n",
       "      <td>Нур-Султан</td>\n",
       "      <td>840</td>\n",
       "    </tr>\n",
       "    <tr>\n",
       "      <th>15</th>\n",
       "      <td>Челябинск</td>\n",
       "      <td>786</td>\n",
       "    </tr>\n",
       "    <tr>\n",
       "      <th>16</th>\n",
       "      <td>Пермь</td>\n",
       "      <td>771</td>\n",
       "    </tr>\n",
       "    <tr>\n",
       "      <th>17</th>\n",
       "      <td>Уфа</td>\n",
       "      <td>767</td>\n",
       "    </tr>\n",
       "    <tr>\n",
       "      <th>18</th>\n",
       "      <td>Томск</td>\n",
       "      <td>692</td>\n",
       "    </tr>\n",
       "    <tr>\n",
       "      <th>19</th>\n",
       "      <td>Омск</td>\n",
       "      <td>617</td>\n",
       "    </tr>\n",
       "  </tbody>\n",
       "</table>\n",
       "</div>"
      ],
      "text/plain": [
       "               area   cnt\n",
       "0            Москва  5333\n",
       "1   Санкт-Петербург  2851\n",
       "2             Минск  2112\n",
       "3       Новосибирск  2006\n",
       "4            Алматы  1892\n",
       "5      Екатеринбург  1698\n",
       "6   Нижний Новгород  1670\n",
       "7            Казань  1415\n",
       "8         Краснодар  1301\n",
       "9            Самара  1144\n",
       "10   Ростов-на-Дону  1131\n",
       "11          Воронеж  1063\n",
       "12          Ташкент   851\n",
       "13       Красноярск   847\n",
       "14       Нур-Султан   840\n",
       "15        Челябинск   786\n",
       "16            Пермь   771\n",
       "17              Уфа   767\n",
       "18            Томск   692\n",
       "19             Омск   617"
      ]
     },
     "execution_count": 143,
     "metadata": {},
     "output_type": "execute_result"
    }
   ],
   "source": [
    "df4_1 = pd.read_sql_query(query_4_1, connection)\n",
    "df4_1"
   ]
  },
  {
   "cell_type": "markdown",
   "id": "4266f0b6-1646-492a-88b4-2f6a46502135",
   "metadata": {
    "id": "4266f0b6-1646-492a-88b4-2f6a46502135"
   },
   "source": [
    "2. Напишите запрос, чтобы определить у какого количества вакансий заполнено хотя бы одно из двух полей с зарплатой."
   ]
  },
  {
   "cell_type": "code",
   "execution_count": 144,
   "id": "0c44b350-72eb-4d65-8b54-a1fc449ba9fd",
   "metadata": {
    "id": "0c44b350-72eb-4d65-8b54-a1fc449ba9fd"
   },
   "outputs": [],
   "source": [
    "# Достаточно поставить условие по двум полям salary_from и salary_to, все необходимые данные есть в таблице вакансий.\n",
    "query_4_2 = f'''select \n",
    "                    count(v.id) \n",
    "                from vacancies v\n",
    "                where salary_from is not null or salary_to is not null\n",
    "            '''"
   ]
  },
  {
   "cell_type": "code",
   "execution_count": 145,
   "id": "rhvwaMDkoWTi",
   "metadata": {
    "id": "rhvwaMDkoWTi"
   },
   "outputs": [
    {
     "name": "stderr",
     "output_type": "stream",
     "text": [
      "C:\\Users\\molde\\AppData\\Local\\Temp\\ipykernel_20364\\2217463223.py:1: UserWarning: pandas only supports SQLAlchemy connectable (engine/connection) or database string URI or sqlite3 DBAPI2 connection. Other DBAPI2 objects are not tested. Please consider using SQLAlchemy.\n",
      "  df4_2 = pd.read_sql_query(query_4_2, connection)\n"
     ]
    },
    {
     "data": {
      "text/html": [
       "<div>\n",
       "<style scoped>\n",
       "    .dataframe tbody tr th:only-of-type {\n",
       "        vertical-align: middle;\n",
       "    }\n",
       "\n",
       "    .dataframe tbody tr th {\n",
       "        vertical-align: top;\n",
       "    }\n",
       "\n",
       "    .dataframe thead th {\n",
       "        text-align: right;\n",
       "    }\n",
       "</style>\n",
       "<table border=\"1\" class=\"dataframe\">\n",
       "  <thead>\n",
       "    <tr style=\"text-align: right;\">\n",
       "      <th></th>\n",
       "      <th>count</th>\n",
       "    </tr>\n",
       "  </thead>\n",
       "  <tbody>\n",
       "    <tr>\n",
       "      <th>0</th>\n",
       "      <td>24073</td>\n",
       "    </tr>\n",
       "  </tbody>\n",
       "</table>\n",
       "</div>"
      ],
      "text/plain": [
       "   count\n",
       "0  24073"
      ]
     },
     "execution_count": 145,
     "metadata": {},
     "output_type": "execute_result"
    }
   ],
   "source": [
    "\n",
    "df4_2 = pd.read_sql_query(query_4_2, connection)\n",
    "df4_2"
   ]
  },
  {
   "cell_type": "markdown",
   "id": "635c4d5d-f323-4c66-b428-50a088120aa0",
   "metadata": {
    "id": "635c4d5d-f323-4c66-b428-50a088120aa0"
   },
   "source": [
    "3. Найдите средние значения для нижней и верхней границы зарплатной вилки. Округлите значения до целого."
   ]
  },
  {
   "cell_type": "code",
   "execution_count": 146,
   "id": "603cdbe4-0ec3-4106-8eaf-c73fcdd29165",
   "metadata": {
    "id": "603cdbe4-0ec3-4106-8eaf-c73fcdd29165"
   },
   "outputs": [],
   "source": [
    "# достаточно поставить условие по двум полям salary_from и salary_to, в соединении таблиц необходимости нет.\n",
    "query_4_3 = f'''select \n",
    "                    round(avg(salary_from)) agv_from, -- считаем среднее значение всех начальных зарплат\n",
    "                    round(avg(salary_to)) agv_to      -- считаем среднее значение всех конечных зарплат\n",
    "                from vacancies\n",
    "            '''\n"
   ]
  },
  {
   "cell_type": "code",
   "execution_count": 147,
   "id": "pswpAb66ovZZ",
   "metadata": {
    "id": "pswpAb66ovZZ"
   },
   "outputs": [
    {
     "name": "stderr",
     "output_type": "stream",
     "text": [
      "C:\\Users\\molde\\AppData\\Local\\Temp\\ipykernel_20364\\2104930333.py:2: UserWarning: pandas only supports SQLAlchemy connectable (engine/connection) or database string URI or sqlite3 DBAPI2 connection. Other DBAPI2 objects are not tested. Please consider using SQLAlchemy.\n",
      "  df4_3 = pd.read_sql_query(query_4_3, connection)\n"
     ]
    },
    {
     "data": {
      "text/html": [
       "<div>\n",
       "<style scoped>\n",
       "    .dataframe tbody tr th:only-of-type {\n",
       "        vertical-align: middle;\n",
       "    }\n",
       "\n",
       "    .dataframe tbody tr th {\n",
       "        vertical-align: top;\n",
       "    }\n",
       "\n",
       "    .dataframe thead th {\n",
       "        text-align: right;\n",
       "    }\n",
       "</style>\n",
       "<table border=\"1\" class=\"dataframe\">\n",
       "  <thead>\n",
       "    <tr style=\"text-align: right;\">\n",
       "      <th></th>\n",
       "      <th>agv_from</th>\n",
       "      <th>agv_to</th>\n",
       "    </tr>\n",
       "  </thead>\n",
       "  <tbody>\n",
       "    <tr>\n",
       "      <th>0</th>\n",
       "      <td>71065.0</td>\n",
       "      <td>110537.0</td>\n",
       "    </tr>\n",
       "  </tbody>\n",
       "</table>\n",
       "</div>"
      ],
      "text/plain": [
       "   agv_from    agv_to\n",
       "0   71065.0  110537.0"
      ]
     },
     "execution_count": 147,
     "metadata": {},
     "output_type": "execute_result"
    }
   ],
   "source": [
    "# результат запроса\n",
    "df4_3 = pd.read_sql_query(query_4_3, connection)\n",
    "df4_3"
   ]
  },
  {
   "cell_type": "markdown",
   "id": "f3fdaec9-5fd3-4260-9cf5-1d7406b628a5",
   "metadata": {
    "id": "f3fdaec9-5fd3-4260-9cf5-1d7406b628a5"
   },
   "source": [
    "4. Напишите запрос, который выведет количество вакансий для каждого сочетания типа рабочего графика (schedule) и типа трудоустройства (employment), используемого в вакансиях. Результат отсортируйте по убыванию количества.\n"
   ]
  },
  {
   "cell_type": "code",
   "execution_count": 148,
   "id": "1ea710ec-871b-431e-9462-c7d0fd87011b",
   "metadata": {
    "id": "1ea710ec-871b-431e-9462-c7d0fd87011b"
   },
   "outputs": [],
   "source": [
    "# Для решения потребуется толькотабоица вакансий:\n",
    "query_4_4 = f'''select \n",
    "                    lower(schedule||'__'||employment) schedule_employment,\n",
    "                    \n",
    "                    /*для улучшения читаемости таблицы выведем все значения в нижнем регистре, использовав lower,\n",
    "                    и объединим поля с грфиком и типом трудоустройства с помощью ||, добавив нижнее подчеркивание '__'*/\n",
    "                    \n",
    "                    count(lower(schedule||'__'||employment)) cnt -- столбей с количеством вакансий выведем для наглядности\n",
    "                from vacancies\n",
    "                group by schedule_employment\n",
    "                order by cnt desc\n",
    "            '''"
   ]
  },
  {
   "cell_type": "code",
   "execution_count": 149,
   "id": "lGUVqavdo4JQ",
   "metadata": {
    "id": "lGUVqavdo4JQ"
   },
   "outputs": [
    {
     "name": "stderr",
     "output_type": "stream",
     "text": [
      "C:\\Users\\molde\\AppData\\Local\\Temp\\ipykernel_20364\\573529323.py:2: UserWarning: pandas only supports SQLAlchemy connectable (engine/connection) or database string URI or sqlite3 DBAPI2 connection. Other DBAPI2 objects are not tested. Please consider using SQLAlchemy.\n",
      "  df4_4 = pd.read_sql_query(query_4_4, connection)\n"
     ]
    },
    {
     "data": {
      "text/html": [
       "<div>\n",
       "<style scoped>\n",
       "    .dataframe tbody tr th:only-of-type {\n",
       "        vertical-align: middle;\n",
       "    }\n",
       "\n",
       "    .dataframe tbody tr th {\n",
       "        vertical-align: top;\n",
       "    }\n",
       "\n",
       "    .dataframe thead th {\n",
       "        text-align: right;\n",
       "    }\n",
       "</style>\n",
       "<table border=\"1\" class=\"dataframe\">\n",
       "  <thead>\n",
       "    <tr style=\"text-align: right;\">\n",
       "      <th></th>\n",
       "      <th>schedule_employment</th>\n",
       "      <th>cnt</th>\n",
       "    </tr>\n",
       "  </thead>\n",
       "  <tbody>\n",
       "    <tr>\n",
       "      <th>0</th>\n",
       "      <td>полный день__полная занятость</td>\n",
       "      <td>35367</td>\n",
       "    </tr>\n",
       "    <tr>\n",
       "      <th>1</th>\n",
       "      <td>удаленная работа__полная занятость</td>\n",
       "      <td>7802</td>\n",
       "    </tr>\n",
       "    <tr>\n",
       "      <th>2</th>\n",
       "      <td>гибкий график__полная занятость</td>\n",
       "      <td>1593</td>\n",
       "    </tr>\n",
       "    <tr>\n",
       "      <th>3</th>\n",
       "      <td>удаленная работа__частичная занятость</td>\n",
       "      <td>1312</td>\n",
       "    </tr>\n",
       "    <tr>\n",
       "      <th>4</th>\n",
       "      <td>сменный график__полная занятость</td>\n",
       "      <td>940</td>\n",
       "    </tr>\n",
       "    <tr>\n",
       "      <th>5</th>\n",
       "      <td>полный день__стажировка</td>\n",
       "      <td>569</td>\n",
       "    </tr>\n",
       "    <tr>\n",
       "      <th>6</th>\n",
       "      <td>вахтовый метод__полная занятость</td>\n",
       "      <td>367</td>\n",
       "    </tr>\n",
       "    <tr>\n",
       "      <th>7</th>\n",
       "      <td>полный день__частичная занятость</td>\n",
       "      <td>347</td>\n",
       "    </tr>\n",
       "    <tr>\n",
       "      <th>8</th>\n",
       "      <td>гибкий график__частичная занятость</td>\n",
       "      <td>312</td>\n",
       "    </tr>\n",
       "    <tr>\n",
       "      <th>9</th>\n",
       "      <td>полный день__проектная работа</td>\n",
       "      <td>141</td>\n",
       "    </tr>\n",
       "    <tr>\n",
       "      <th>10</th>\n",
       "      <td>удаленная работа__проектная работа</td>\n",
       "      <td>133</td>\n",
       "    </tr>\n",
       "    <tr>\n",
       "      <th>11</th>\n",
       "      <td>гибкий график__стажировка</td>\n",
       "      <td>116</td>\n",
       "    </tr>\n",
       "    <tr>\n",
       "      <th>12</th>\n",
       "      <td>сменный график__частичная занятость</td>\n",
       "      <td>101</td>\n",
       "    </tr>\n",
       "    <tr>\n",
       "      <th>13</th>\n",
       "      <td>удаленная работа__стажировка</td>\n",
       "      <td>64</td>\n",
       "    </tr>\n",
       "    <tr>\n",
       "      <th>14</th>\n",
       "      <td>гибкий график__проектная работа</td>\n",
       "      <td>18</td>\n",
       "    </tr>\n",
       "    <tr>\n",
       "      <th>15</th>\n",
       "      <td>сменный график__стажировка</td>\n",
       "      <td>12</td>\n",
       "    </tr>\n",
       "    <tr>\n",
       "      <th>16</th>\n",
       "      <td>вахтовый метод__проектная работа</td>\n",
       "      <td>2</td>\n",
       "    </tr>\n",
       "    <tr>\n",
       "      <th>17</th>\n",
       "      <td>сменный график__проектная работа</td>\n",
       "      <td>1</td>\n",
       "    </tr>\n",
       "  </tbody>\n",
       "</table>\n",
       "</div>"
      ],
      "text/plain": [
       "                      schedule_employment    cnt\n",
       "0           полный день__полная занятость  35367\n",
       "1      удаленная работа__полная занятость   7802\n",
       "2         гибкий график__полная занятость   1593\n",
       "3   удаленная работа__частичная занятость   1312\n",
       "4        сменный график__полная занятость    940\n",
       "5                 полный день__стажировка    569\n",
       "6        вахтовый метод__полная занятость    367\n",
       "7        полный день__частичная занятость    347\n",
       "8      гибкий график__частичная занятость    312\n",
       "9           полный день__проектная работа    141\n",
       "10     удаленная работа__проектная работа    133\n",
       "11              гибкий график__стажировка    116\n",
       "12    сменный график__частичная занятость    101\n",
       "13           удаленная работа__стажировка     64\n",
       "14        гибкий график__проектная работа     18\n",
       "15             сменный график__стажировка     12\n",
       "16       вахтовый метод__проектная работа      2\n",
       "17       сменный график__проектная работа      1"
      ]
     },
     "execution_count": 149,
     "metadata": {},
     "output_type": "execute_result"
    }
   ],
   "source": [
    "# текст запроса\n",
    "df4_4 = pd.read_sql_query(query_4_4, connection)\n",
    "df4_4"
   ]
  },
  {
   "cell_type": "markdown",
   "id": "0136ffee-0ead-4a6b-b608-61d1c753a438",
   "metadata": {
    "id": "0136ffee-0ead-4a6b-b608-61d1c753a438"
   },
   "source": [
    "5. Напишите запрос, выводящий значения поля Требуемый опыт работы (experience) в порядке возрастания количества вакансий, в которых указан данный вариант опыта. "
   ]
  },
  {
   "cell_type": "code",
   "execution_count": 150,
   "id": "5b3a8e79-f7ab-4008-b767-12aea3a205ea",
   "metadata": {
    "id": "5b3a8e79-f7ab-4008-b767-12aea3a205ea"
   },
   "outputs": [],
   "source": [
    "# используем только таблицу с вакансиями, выведем сгрупированный столбец с опытом работы в порядке убывания кол-ва строк.\n",
    "query_4_5 = f'''select\n",
    "                    experience\n",
    "                -- если добавить count(id) в таблицу можно сделать более конкретные выводы\n",
    "                from vacancies\n",
    "                group by experience\n",
    "                order by count(id) desc\n",
    "            '''"
   ]
  },
  {
   "cell_type": "code",
   "execution_count": 151,
   "id": "3Is64Y-hpDpq",
   "metadata": {
    "id": "3Is64Y-hpDpq"
   },
   "outputs": [
    {
     "name": "stderr",
     "output_type": "stream",
     "text": [
      "C:\\Users\\molde\\AppData\\Local\\Temp\\ipykernel_20364\\3912759190.py:1: UserWarning: pandas only supports SQLAlchemy connectable (engine/connection) or database string URI or sqlite3 DBAPI2 connection. Other DBAPI2 objects are not tested. Please consider using SQLAlchemy.\n",
      "  df4_5 = pd.read_sql_query(query_4_5, connection)\n"
     ]
    },
    {
     "data": {
      "text/html": [
       "<div>\n",
       "<style scoped>\n",
       "    .dataframe tbody tr th:only-of-type {\n",
       "        vertical-align: middle;\n",
       "    }\n",
       "\n",
       "    .dataframe tbody tr th {\n",
       "        vertical-align: top;\n",
       "    }\n",
       "\n",
       "    .dataframe thead th {\n",
       "        text-align: right;\n",
       "    }\n",
       "</style>\n",
       "<table border=\"1\" class=\"dataframe\">\n",
       "  <thead>\n",
       "    <tr style=\"text-align: right;\">\n",
       "      <th></th>\n",
       "      <th>experience</th>\n",
       "    </tr>\n",
       "  </thead>\n",
       "  <tbody>\n",
       "    <tr>\n",
       "      <th>0</th>\n",
       "      <td>От 1 года до 3 лет</td>\n",
       "    </tr>\n",
       "    <tr>\n",
       "      <th>1</th>\n",
       "      <td>От 3 до 6 лет</td>\n",
       "    </tr>\n",
       "    <tr>\n",
       "      <th>2</th>\n",
       "      <td>Нет опыта</td>\n",
       "    </tr>\n",
       "    <tr>\n",
       "      <th>3</th>\n",
       "      <td>Более 6 лет</td>\n",
       "    </tr>\n",
       "  </tbody>\n",
       "</table>\n",
       "</div>"
      ],
      "text/plain": [
       "           experience\n",
       "0  От 1 года до 3 лет\n",
       "1       От 3 до 6 лет\n",
       "2           Нет опыта\n",
       "3         Более 6 лет"
      ]
     },
     "execution_count": 151,
     "metadata": {},
     "output_type": "execute_result"
    }
   ],
   "source": [
    "df4_5 = pd.read_sql_query(query_4_5, connection)\n",
    "df4_5"
   ]
  },
  {
   "cell_type": "markdown",
   "id": "oq2b7n1QpIka",
   "metadata": {
    "id": "oq2b7n1QpIka"
   },
   "source": [
    "***"
   ]
  },
  {
   "cell_type": "markdown",
   "id": "a8c87107",
   "metadata": {
    "id": "e91f87ed-e25c-4f96-9f92-b642e8c0b4fa"
   },
   "source": [
    "### Выводы по детальному анализу вакансий:\n",
    "\n",
    "К первой пятёрке городов относится почти 29% (14194) всех размещенных вакансий, что вполне логично. Если посмотреть на первую двадцатку регионов, то к ним относятся больше 60% всех представленных вакансий (29787). Все города в 20-тке - крупные промышленные центры, где самая большая потребность в любых кадрах и не только IT-специалистах.\n",
    "\n",
    "Около 50% всех вакансий имеют предложение по заработной плате (начальной или конечной). Крупные компании, как правило не стремятся размещать свои предложения с заработными платами. Как правило, они делают предложение по зарплате уже конкретному соискателю, прошедшему предварительный отбор по резюме.\n",
    "\n",
    "Значительное большинство работодателей предлагают полную занятость и полный рабочий день (71,8% от всех вакансий), вакансии с удаленной работой и с полным рабочим днем 15,8%, что в сумме составляет около 88% от числа всех вакансий. Можно предположить, что работодателям, размещающим подобные вакансии, требуются сотрудники на долгую перспективу. Интересно сравнить на сколько по таким вакансиям отличается уровень предлагаемых заработных плат. Как правило, на удаленной работе оклады ниже, чем при работе в офисе компании.\n",
    "\n",
    "В заключении нужно отметить, что большинству работодателей (больше 50% от всех вакансий) требуются специалисты с опытом работы от одного до трех лет. В плане предложений по заработным платам это одна из низкооплачиваемых групп (ниже только полное отсутствие опыта). Как правило, это самая мобильная группа среди специалистов. Они часто меняют работу в поисках лучшего места, а работодателю на такие вакансии возможно не требуются профессионалы, что позволяет компаниям экономить на фонде оплаты труда. Самая редкая категория-специалисты с опытом более 6 лет, что вполне логично, поскольку таких соискателей обычно меньшинство, как и должностей, требующих такой уровень подготовки.\n"
   ]
  },
  {
   "cell_type": "markdown",
   "id": "7ea20ab6-04a7-40a0-adec-443a0e5a42c3",
   "metadata": {
    "id": "7ea20ab6-04a7-40a0-adec-443a0e5a42c3"
   },
   "source": [
    "# Юнит 5. Анализ работодателей"
   ]
  },
  {
   "cell_type": "markdown",
   "id": "968aed80-74ef-4ffb-b5bf-c65b84e9caea",
   "metadata": {
    "id": "968aed80-74ef-4ffb-b5bf-c65b84e9caea"
   },
   "source": [
    "1. Напишите запрос, который позволит узнать, какие работодатели находятся на первом и пятом месте по количеству вакансий."
   ]
  },
  {
   "cell_type": "code",
   "execution_count": 152,
   "id": "f2d62796-d400-4ec1-a675-88112739a50e",
   "metadata": {
    "id": "f2d62796-d400-4ec1-a675-88112739a50e"
   },
   "outputs": [],
   "source": [
    "#соеденив таблицы вакрнсий и работадателей, выведем первых пять работадателей по числу вакансий\n",
    "query_5_1_1 = f'''select \n",
    "                    e.name name_employers\n",
    "                from vacancies v\n",
    "                    join employers e on v.employer_id=e.id\n",
    "                group by name_employers\n",
    "                order by count(v.id) desc\n",
    "                limit 5\n",
    "            '''\n"
   ]
  },
  {
   "cell_type": "code",
   "execution_count": 153,
   "id": "64tOMkAxqkQk",
   "metadata": {
    "id": "64tOMkAxqkQk"
   },
   "outputs": [
    {
     "name": "stderr",
     "output_type": "stream",
     "text": [
      "C:\\Users\\molde\\AppData\\Local\\Temp\\ipykernel_20364\\656698284.py:2: UserWarning: pandas only supports SQLAlchemy connectable (engine/connection) or database string URI or sqlite3 DBAPI2 connection. Other DBAPI2 objects are not tested. Please consider using SQLAlchemy.\n",
      "  df5_1_1 = pd.read_sql_query(query_5_1_1, connection)\n"
     ]
    },
    {
     "data": {
      "text/html": [
       "<div>\n",
       "<style scoped>\n",
       "    .dataframe tbody tr th:only-of-type {\n",
       "        vertical-align: middle;\n",
       "    }\n",
       "\n",
       "    .dataframe tbody tr th {\n",
       "        vertical-align: top;\n",
       "    }\n",
       "\n",
       "    .dataframe thead th {\n",
       "        text-align: right;\n",
       "    }\n",
       "</style>\n",
       "<table border=\"1\" class=\"dataframe\">\n",
       "  <thead>\n",
       "    <tr style=\"text-align: right;\">\n",
       "      <th></th>\n",
       "      <th>name_employers</th>\n",
       "    </tr>\n",
       "  </thead>\n",
       "  <tbody>\n",
       "    <tr>\n",
       "      <th>0</th>\n",
       "      <td>Яндекс</td>\n",
       "    </tr>\n",
       "    <tr>\n",
       "      <th>1</th>\n",
       "      <td>Ростелеком</td>\n",
       "    </tr>\n",
       "    <tr>\n",
       "      <th>2</th>\n",
       "      <td>Тинькофф</td>\n",
       "    </tr>\n",
       "    <tr>\n",
       "      <th>3</th>\n",
       "      <td>СБЕР</td>\n",
       "    </tr>\n",
       "    <tr>\n",
       "      <th>4</th>\n",
       "      <td>Газпром нефть</td>\n",
       "    </tr>\n",
       "  </tbody>\n",
       "</table>\n",
       "</div>"
      ],
      "text/plain": [
       "  name_employers\n",
       "0         Яндекс\n",
       "1     Ростелеком\n",
       "2       Тинькофф\n",
       "3           СБЕР\n",
       "4  Газпром нефть"
      ]
     },
     "execution_count": 153,
     "metadata": {},
     "output_type": "execute_result"
    }
   ],
   "source": [
    "# результат запроса\n",
    "df5_1_1 = pd.read_sql_query(query_5_1_1, connection)\n",
    "df5_1_1"
   ]
  },
  {
   "cell_type": "code",
   "execution_count": 154,
   "id": "753517bc",
   "metadata": {},
   "outputs": [],
   "source": [
    "# второй вариант: с помощью объединения выведем первую и пятую позицию, как спрашивалось в запросе:\n",
    "query_5_1_2 = f'''(select \n",
    "                       e.name name_employers\n",
    "                   from vacancies v\n",
    "                       join employers e on v.employer_id=e.id\n",
    "                   group by name_employers\n",
    "                   order by count(v.id) desc\n",
    "                   limit 1)\n",
    "                   union \n",
    "                  (select \n",
    "                       e.name name_employers               \n",
    "                   from vacancies v\n",
    "                       join employers e on v.employer_id=e.id\n",
    "                   group by name_employers\n",
    "                   order by count(v.id) desc\n",
    "                   offset 4 limit 1 )\n",
    "                   '''"
   ]
  },
  {
   "cell_type": "code",
   "execution_count": 155,
   "id": "16c2a908",
   "metadata": {},
   "outputs": [
    {
     "name": "stderr",
     "output_type": "stream",
     "text": [
      "C:\\Users\\molde\\AppData\\Local\\Temp\\ipykernel_20364\\3674517282.py:2: UserWarning: pandas only supports SQLAlchemy connectable (engine/connection) or database string URI or sqlite3 DBAPI2 connection. Other DBAPI2 objects are not tested. Please consider using SQLAlchemy.\n",
      "  df5_1_2 = pd.read_sql_query(query_5_1_2, connection)\n"
     ]
    },
    {
     "data": {
      "text/html": [
       "<div>\n",
       "<style scoped>\n",
       "    .dataframe tbody tr th:only-of-type {\n",
       "        vertical-align: middle;\n",
       "    }\n",
       "\n",
       "    .dataframe tbody tr th {\n",
       "        vertical-align: top;\n",
       "    }\n",
       "\n",
       "    .dataframe thead th {\n",
       "        text-align: right;\n",
       "    }\n",
       "</style>\n",
       "<table border=\"1\" class=\"dataframe\">\n",
       "  <thead>\n",
       "    <tr style=\"text-align: right;\">\n",
       "      <th></th>\n",
       "      <th>name_employers</th>\n",
       "    </tr>\n",
       "  </thead>\n",
       "  <tbody>\n",
       "    <tr>\n",
       "      <th>0</th>\n",
       "      <td>Газпром нефть</td>\n",
       "    </tr>\n",
       "    <tr>\n",
       "      <th>1</th>\n",
       "      <td>Яндекс</td>\n",
       "    </tr>\n",
       "  </tbody>\n",
       "</table>\n",
       "</div>"
      ],
      "text/plain": [
       "  name_employers\n",
       "0  Газпром нефть\n",
       "1         Яндекс"
      ]
     },
     "execution_count": 155,
     "metadata": {},
     "output_type": "execute_result"
    }
   ],
   "source": [
    "# результат запроса\n",
    "df5_1_2 = pd.read_sql_query(query_5_1_2, connection)\n",
    "df5_1_2"
   ]
  },
  {
   "attachments": {
    "%D0%B8%D0%B7%D0%BE%D0%B1%D1%80%D0%B0%D0%B6%D0%B5%D0%BD%D0%B8%D0%B5.png": {
     "image/png": "[encoded data removed]"
    }
   },
   "cell_type": "markdown",
   "id": "38595e0a",
   "metadata": {},
   "source": [
    "Если вывести запрос с количеством вакансий, то увидим, Яндекс размещает в 4 раза больше вакансий по сравнению с остальными участниками  первой пятерки.\n",
    "```sql\n",
    "select \n",
    "    e.name name_employers,\n",
    "    count(v.id) \n",
    "from vacancies v\n",
    "join employers e on v.employer_id=e.id\n",
    "group by name_employers\n",
    "order by count(v.id) desc\n",
    "limit 5\n",
    "```\n",
    "\n",
    "![%D0%B8%D0%B7%D0%BE%D0%B1%D1%80%D0%B0%D0%B6%D0%B5%D0%BD%D0%B8%D0%B5.png](attachment:%D0%B8%D0%B7%D0%BE%D0%B1%D1%80%D0%B0%D0%B6%D0%B5%D0%BD%D0%B8%D0%B5.png)"
   ]
  },
  {
   "cell_type": "markdown",
   "id": "68377cfc-b378-43dc-ab7d-1195abf2c515",
   "metadata": {
    "id": "68377cfc-b378-43dc-ab7d-1195abf2c515"
   },
   "source": [
    "2. Напишите запрос, который для каждого региона выведет количество работодателей и вакансий в нём.\n",
    "Среди регионов, в которых нет вакансий, найдите тот, в котором наибольшее количество работодателей.\n"
   ]
  },
  {
   "cell_type": "code",
   "execution_count": 156,
   "id": "dd7df27a-e3e8-412e-a21a-5d389b71e891",
   "metadata": {
    "id": "dd7df27a-e3e8-412e-a21a-5d389b71e891"
   },
   "outputs": [],
   "source": [
    "query_5_2 = f'''select \n",
    "            /* Соединив таблицу с территориями с помощью left join с вакансиями и работадателями\n",
    "            и посчитав количество работадателей и вакансий группированных по регионам получим требуемую таблицу.\n",
    "            Добавив условие об отсутствии вакансий, получим регионы, где нет вакансий.\n",
    "            Упорядочив нашу таблицу по убыванию, выведем первый регион*/\n",
    "                      a.name area_name,\n",
    "                      count(e.id) cnt_employers,\n",
    "                      count(v.id) cnt_vacancies\n",
    "                  from areas a\n",
    "                      left join vacancies v on v.area_id=a.id\n",
    "                      left join employers e on e.area=a.id\n",
    "                  where v.id is null\n",
    "                  group by area_name\n",
    "                  order by cnt_employers desc\n",
    "                  limit 1\n",
    "            '''"
   ]
  },
  {
   "cell_type": "code",
   "execution_count": 157,
   "id": "x1ikWbydrbf6",
   "metadata": {
    "id": "x1ikWbydrbf6"
   },
   "outputs": [
    {
     "name": "stderr",
     "output_type": "stream",
     "text": [
      "C:\\Users\\molde\\AppData\\Local\\Temp\\ipykernel_20364\\280165446.py:2: UserWarning: pandas only supports SQLAlchemy connectable (engine/connection) or database string URI or sqlite3 DBAPI2 connection. Other DBAPI2 objects are not tested. Please consider using SQLAlchemy.\n",
      "  df5_2 = pd.read_sql_query(query_5_2, connection)\n"
     ]
    },
    {
     "data": {
      "text/html": [
       "<div>\n",
       "<style scoped>\n",
       "    .dataframe tbody tr th:only-of-type {\n",
       "        vertical-align: middle;\n",
       "    }\n",
       "\n",
       "    .dataframe tbody tr th {\n",
       "        vertical-align: top;\n",
       "    }\n",
       "\n",
       "    .dataframe thead th {\n",
       "        text-align: right;\n",
       "    }\n",
       "</style>\n",
       "<table border=\"1\" class=\"dataframe\">\n",
       "  <thead>\n",
       "    <tr style=\"text-align: right;\">\n",
       "      <th></th>\n",
       "      <th>area_name</th>\n",
       "      <th>cnt_employers</th>\n",
       "      <th>cnt_vacancies</th>\n",
       "    </tr>\n",
       "  </thead>\n",
       "  <tbody>\n",
       "    <tr>\n",
       "      <th>0</th>\n",
       "      <td>Россия</td>\n",
       "      <td>410</td>\n",
       "      <td>0</td>\n",
       "    </tr>\n",
       "  </tbody>\n",
       "</table>\n",
       "</div>"
      ],
      "text/plain": [
       "  area_name  cnt_employers  cnt_vacancies\n",
       "0    Россия            410              0"
      ]
     },
     "execution_count": 157,
     "metadata": {},
     "output_type": "execute_result"
    }
   ],
   "source": [
    "# результат запроса\n",
    "df5_2 = pd.read_sql_query(query_5_2, connection)\n",
    "df5_2"
   ]
  },
  {
   "cell_type": "markdown",
   "id": "f2fe0acb-ab1a-4e15-9326-2560e22d73c1",
   "metadata": {
    "id": "f2fe0acb-ab1a-4e15-9326-2560e22d73c1"
   },
   "source": [
    "3. Для каждого работодателя посчитайте количество регионов, в которых он публикует свои вакансии. Отсортируйте результат по убыванию количества.\n"
   ]
  },
  {
   "cell_type": "code",
   "execution_count": 158,
   "id": "6271f8ad-bd2e-4196-ae4a-5b39c4c1010e",
   "metadata": {
    "id": "6271f8ad-bd2e-4196-ae4a-5b39c4c1010e"
   },
   "outputs": [],
   "source": [
    "# Если нам не требуется знать название компани работадателя, то достаточно таблицы с вакансиями, где есть employer_id:\n",
    "query_5_3 = f'''select \n",
    "                    employer_id,\n",
    "                    count(distinct area_id) -- считаем количество уникальных регионов\n",
    "                from vacancies\n",
    "                group by employer_id\n",
    "                order by 2 desc\n",
    "                --limit 1\n",
    "            '''"
   ]
  },
  {
   "cell_type": "code",
   "execution_count": 159,
   "id": "1EIvX3HasH4F",
   "metadata": {
    "id": "1EIvX3HasH4F"
   },
   "outputs": [
    {
     "name": "stderr",
     "output_type": "stream",
     "text": [
      "C:\\Users\\molde\\AppData\\Local\\Temp\\ipykernel_20364\\2573101648.py:1: UserWarning: pandas only supports SQLAlchemy connectable (engine/connection) or database string URI or sqlite3 DBAPI2 connection. Other DBAPI2 objects are not tested. Please consider using SQLAlchemy.\n",
      "  df5_3 = pd.read_sql_query(query_5_3, connection)\n"
     ]
    },
    {
     "data": {
      "text/html": [
       "<div>\n",
       "<style scoped>\n",
       "    .dataframe tbody tr th:only-of-type {\n",
       "        vertical-align: middle;\n",
       "    }\n",
       "\n",
       "    .dataframe tbody tr th {\n",
       "        vertical-align: top;\n",
       "    }\n",
       "\n",
       "    .dataframe thead th {\n",
       "        text-align: right;\n",
       "    }\n",
       "</style>\n",
       "<table border=\"1\" class=\"dataframe\">\n",
       "  <thead>\n",
       "    <tr style=\"text-align: right;\">\n",
       "      <th></th>\n",
       "      <th>employer_id</th>\n",
       "      <th>count</th>\n",
       "    </tr>\n",
       "  </thead>\n",
       "  <tbody>\n",
       "    <tr>\n",
       "      <th>0</th>\n",
       "      <td>1740</td>\n",
       "      <td>181</td>\n",
       "    </tr>\n",
       "    <tr>\n",
       "      <th>1</th>\n",
       "      <td>2748</td>\n",
       "      <td>152</td>\n",
       "    </tr>\n",
       "    <tr>\n",
       "      <th>2</th>\n",
       "      <td>5724811</td>\n",
       "      <td>116</td>\n",
       "    </tr>\n",
       "    <tr>\n",
       "      <th>3</th>\n",
       "      <td>5130287</td>\n",
       "      <td>88</td>\n",
       "    </tr>\n",
       "    <tr>\n",
       "      <th>4</th>\n",
       "      <td>3682876</td>\n",
       "      <td>71</td>\n",
       "    </tr>\n",
       "    <tr>\n",
       "      <th>...</th>\n",
       "      <td>...</td>\n",
       "      <td>...</td>\n",
       "    </tr>\n",
       "    <tr>\n",
       "      <th>14901</th>\n",
       "      <td>810278</td>\n",
       "      <td>1</td>\n",
       "    </tr>\n",
       "    <tr>\n",
       "      <th>14902</th>\n",
       "      <td>810313</td>\n",
       "      <td>1</td>\n",
       "    </tr>\n",
       "    <tr>\n",
       "      <th>14903</th>\n",
       "      <td>810551</td>\n",
       "      <td>1</td>\n",
       "    </tr>\n",
       "    <tr>\n",
       "      <th>14904</th>\n",
       "      <td>810688</td>\n",
       "      <td>1</td>\n",
       "    </tr>\n",
       "    <tr>\n",
       "      <th>14905</th>\n",
       "      <td>811902</td>\n",
       "      <td>1</td>\n",
       "    </tr>\n",
       "  </tbody>\n",
       "</table>\n",
       "<p>14906 rows × 2 columns</p>\n",
       "</div>"
      ],
      "text/plain": [
       "       employer_id  count\n",
       "0             1740    181\n",
       "1             2748    152\n",
       "2          5724811    116\n",
       "3          5130287     88\n",
       "4          3682876     71\n",
       "...            ...    ...\n",
       "14901       810278      1\n",
       "14902       810313      1\n",
       "14903       810551      1\n",
       "14904       810688      1\n",
       "14905       811902      1\n",
       "\n",
       "[14906 rows x 2 columns]"
      ]
     },
     "execution_count": 159,
     "metadata": {},
     "output_type": "execute_result"
    }
   ],
   "source": [
    "df5_3 = pd.read_sql_query(query_5_3, connection)\n",
    "df5_3"
   ]
  },
  {
   "cell_type": "code",
   "execution_count": 160,
   "id": "679f65f5",
   "metadata": {},
   "outputs": [
    {
     "name": "stderr",
     "output_type": "stream",
     "text": [
      "C:\\Users\\molde\\AppData\\Local\\Temp\\ipykernel_20364\\2282613841.py:12: UserWarning: pandas only supports SQLAlchemy connectable (engine/connection) or database string URI or sqlite3 DBAPI2 connection. Other DBAPI2 objects are not tested. Please consider using SQLAlchemy.\n",
      "  df5_3_2 = pd.read_sql_query(query_5_3_2, connection)\n"
     ]
    },
    {
     "data": {
      "text/html": [
       "<div>\n",
       "<style scoped>\n",
       "    .dataframe tbody tr th:only-of-type {\n",
       "        vertical-align: middle;\n",
       "    }\n",
       "\n",
       "    .dataframe tbody tr th {\n",
       "        vertical-align: top;\n",
       "    }\n",
       "\n",
       "    .dataframe thead th {\n",
       "        text-align: right;\n",
       "    }\n",
       "</style>\n",
       "<table border=\"1\" class=\"dataframe\">\n",
       "  <thead>\n",
       "    <tr style=\"text-align: right;\">\n",
       "      <th></th>\n",
       "      <th>name</th>\n",
       "      <th>count</th>\n",
       "    </tr>\n",
       "  </thead>\n",
       "  <tbody>\n",
       "    <tr>\n",
       "      <th>0</th>\n",
       "      <td>Яндекс</td>\n",
       "      <td>181</td>\n",
       "    </tr>\n",
       "    <tr>\n",
       "      <th>1</th>\n",
       "      <td>Ростелеком</td>\n",
       "      <td>152</td>\n",
       "    </tr>\n",
       "    <tr>\n",
       "      <th>2</th>\n",
       "      <td>Спецремонт</td>\n",
       "      <td>116</td>\n",
       "    </tr>\n",
       "    <tr>\n",
       "      <th>3</th>\n",
       "      <td>Поляков Денис Иванович</td>\n",
       "      <td>88</td>\n",
       "    </tr>\n",
       "    <tr>\n",
       "      <th>4</th>\n",
       "      <td>ООО ЕФИН</td>\n",
       "      <td>71</td>\n",
       "    </tr>\n",
       "    <tr>\n",
       "      <th>...</th>\n",
       "      <td>...</td>\n",
       "      <td>...</td>\n",
       "    </tr>\n",
       "    <tr>\n",
       "      <th>14901</th>\n",
       "      <td>НПП Авиатрон</td>\n",
       "      <td>1</td>\n",
       "    </tr>\n",
       "    <tr>\n",
       "      <th>14902</th>\n",
       "      <td>Центр дистанционных торгов</td>\n",
       "      <td>1</td>\n",
       "    </tr>\n",
       "    <tr>\n",
       "      <th>14903</th>\n",
       "      <td>Городские Телекоммуникационные Системы</td>\n",
       "      <td>1</td>\n",
       "    </tr>\n",
       "    <tr>\n",
       "      <th>14904</th>\n",
       "      <td>Введенский, Отель</td>\n",
       "      <td>1</td>\n",
       "    </tr>\n",
       "    <tr>\n",
       "      <th>14905</th>\n",
       "      <td>Группа Компаний Автоимпорт</td>\n",
       "      <td>1</td>\n",
       "    </tr>\n",
       "  </tbody>\n",
       "</table>\n",
       "<p>14906 rows × 2 columns</p>\n",
       "</div>"
      ],
      "text/plain": [
       "                                         name  count\n",
       "0                                      Яндекс    181\n",
       "1                                  Ростелеком    152\n",
       "2                                  Спецремонт    116\n",
       "3                      Поляков Денис Иванович     88\n",
       "4                                   ООО ЕФИН      71\n",
       "...                                       ...    ...\n",
       "14901                            НПП Авиатрон      1\n",
       "14902              Центр дистанционных торгов      1\n",
       "14903  Городские Телекоммуникационные Системы      1\n",
       "14904                       Введенский, Отель      1\n",
       "14905              Группа Компаний Автоимпорт      1\n",
       "\n",
       "[14906 rows x 2 columns]"
      ]
     },
     "execution_count": 160,
     "metadata": {},
     "output_type": "execute_result"
    }
   ],
   "source": [
    "# чтобы узнать наименования компаний, соединим таблицу вакансий с таблицей работадатедей,\n",
    "# остальное аналогично запросу_5_3\n",
    "query_5_3_2 = f'''select \n",
    "                    e.name,\n",
    "                count(distinct v.area_id)\n",
    "                from vacancies v\n",
    "                    join employers e on e.id=v.employer_id\n",
    "                group by v.employer_id,e.name\n",
    "                order by 2 desc\n",
    "                --limit 1\n",
    "            '''\n",
    "df5_3_2 = pd.read_sql_query(query_5_3_2, connection)\n",
    "df5_3_2"
   ]
  },
  {
   "cell_type": "markdown",
   "id": "eab2206d-d95b-468b-8e5f-34381abf0ce7",
   "metadata": {
    "id": "eab2206d-d95b-468b-8e5f-34381abf0ce7"
   },
   "source": [
    "4. Напишите запрос для подсчёта количества работодателей, у которых не указана сфера деятельности. "
   ]
  },
  {
   "cell_type": "code",
   "execution_count": 161,
   "id": "80defb23-bfb1-4a18-8be6-bf36aa7165d5",
   "metadata": {
    "id": "80defb23-bfb1-4a18-8be6-bf36aa7165d5"
   },
   "outputs": [
    {
     "name": "stderr",
     "output_type": "stream",
     "text": [
      "C:\\Users\\molde\\AppData\\Local\\Temp\\ipykernel_20364\\125905548.py:8: UserWarning: pandas only supports SQLAlchemy connectable (engine/connection) or database string URI or sqlite3 DBAPI2 connection. Other DBAPI2 objects are not tested. Please consider using SQLAlchemy.\n",
      "  df5_4 = pd.read_sql_query(query_5_4, connection)\n"
     ]
    },
    {
     "data": {
      "text/html": [
       "<div>\n",
       "<style scoped>\n",
       "    .dataframe tbody tr th:only-of-type {\n",
       "        vertical-align: middle;\n",
       "    }\n",
       "\n",
       "    .dataframe tbody tr th {\n",
       "        vertical-align: top;\n",
       "    }\n",
       "\n",
       "    .dataframe thead th {\n",
       "        text-align: right;\n",
       "    }\n",
       "</style>\n",
       "<table border=\"1\" class=\"dataframe\">\n",
       "  <thead>\n",
       "    <tr style=\"text-align: right;\">\n",
       "      <th></th>\n",
       "      <th>count</th>\n",
       "    </tr>\n",
       "  </thead>\n",
       "  <tbody>\n",
       "    <tr>\n",
       "      <th>0</th>\n",
       "      <td>8419</td>\n",
       "    </tr>\n",
       "  </tbody>\n",
       "</table>\n",
       "</div>"
      ],
      "text/plain": [
       "   count\n",
       "0   8419"
      ]
     },
     "execution_count": 161,
     "metadata": {},
     "output_type": "execute_result"
    }
   ],
   "source": [
    "# необходимо соединить с помощью left join таблицы работадателей и дополнительной таблицей (работадаьели_сфера деятельности)\n",
    "# с уловием об отсутствии сфер деятельности: \n",
    "query_5_4 = f'''select \n",
    "                    count(e.id)\n",
    "                from employers e left join employers_industries ei on ei.employer_id=e.id \n",
    "                where ei.industry_id is null\n",
    "            '''\n",
    "df5_4 = pd.read_sql_query(query_5_4, connection)\n",
    "df5_4"
   ]
  },
  {
   "cell_type": "markdown",
   "id": "0112af31-f6b0-4e3b-82ab-71296e752e5e",
   "metadata": {
    "id": "0112af31-f6b0-4e3b-82ab-71296e752e5e"
   },
   "source": [
    "5. Напишите запрос, чтобы узнать название компании, находящейся на третьем месте в алфавитном списке (по названию) компаний, у которых указано четыре сферы деятельности. "
   ]
  },
  {
   "cell_type": "code",
   "execution_count": 162,
   "id": "973b0cfc-a972-470a-8b4a-68744ef220c4",
   "metadata": {
    "id": "973b0cfc-a972-470a-8b4a-68744ef220c4"
   },
   "outputs": [
    {
     "name": "stderr",
     "output_type": "stream",
     "text": [
      "C:\\Users\\molde\\AppData\\Local\\Temp\\ipykernel_20364\\3045214356.py:10: UserWarning: pandas only supports SQLAlchemy connectable (engine/connection) or database string URI or sqlite3 DBAPI2 connection. Other DBAPI2 objects are not tested. Please consider using SQLAlchemy.\n",
      "  df5_5 = pd.read_sql_query(query_5_5, connection)\n"
     ]
    },
    {
     "data": {
      "text/html": [
       "<div>\n",
       "<style scoped>\n",
       "    .dataframe tbody tr th:only-of-type {\n",
       "        vertical-align: middle;\n",
       "    }\n",
       "\n",
       "    .dataframe tbody tr th {\n",
       "        vertical-align: top;\n",
       "    }\n",
       "\n",
       "    .dataframe thead th {\n",
       "        text-align: right;\n",
       "    }\n",
       "</style>\n",
       "<table border=\"1\" class=\"dataframe\">\n",
       "  <thead>\n",
       "    <tr style=\"text-align: right;\">\n",
       "      <th></th>\n",
       "      <th>name</th>\n",
       "    </tr>\n",
       "  </thead>\n",
       "  <tbody>\n",
       "    <tr>\n",
       "      <th>0</th>\n",
       "      <td>2ГИС</td>\n",
       "    </tr>\n",
       "  </tbody>\n",
       "</table>\n",
       "</div>"
      ],
      "text/plain": [
       "   name\n",
       "0  2ГИС"
      ]
     },
     "execution_count": 162,
     "metadata": {},
     "output_type": "execute_result"
    }
   ],
   "source": [
    "# соединение аналогичное предыдущему, поскольну нам не нужны наименования сфер деятельности, а только их количество:\n",
    "query_5_5 = f'''select \n",
    "                    e.name\n",
    "                from employers e left join employers_industries ei on ei.employer_id=e.id \n",
    "                group by 1\n",
    "                having count (distinct ei.industry_id)=4 -- условие по количеству видов деятельности\n",
    "                order by 1\n",
    "                offset 2 limit 1                         -- ограниченине по выводу\n",
    "            '''\n",
    "df5_5 = pd.read_sql_query(query_5_5, connection)\n",
    "df5_5\n"
   ]
  },
  {
   "cell_type": "markdown",
   "id": "3bfcfdaf-755d-4d2b-8ed8-326201dc07ab",
   "metadata": {
    "id": "3bfcfdaf-755d-4d2b-8ed8-326201dc07ab"
   },
   "source": [
    "6. С помощью запроса выясните, у какого количества работодателей в качестве сферы деятельности указана Разработка программного обеспечения.\n"
   ]
  },
  {
   "cell_type": "code",
   "execution_count": 163,
   "id": "ad3f270f-2991-47eb-929b-e8f88a55b0d1",
   "metadata": {
    "id": "ad3f270f-2991-47eb-929b-e8f88a55b0d1"
   },
   "outputs": [
    {
     "name": "stderr",
     "output_type": "stream",
     "text": [
      "C:\\Users\\molde\\AppData\\Local\\Temp\\ipykernel_20364\\3352491306.py:10: UserWarning: pandas only supports SQLAlchemy connectable (engine/connection) or database string URI or sqlite3 DBAPI2 connection. Other DBAPI2 objects are not tested. Please consider using SQLAlchemy.\n",
      "  df5_6 = pd.read_sql_query(query_5_6, connection)\n"
     ]
    },
    {
     "data": {
      "text/html": [
       "<div>\n",
       "<style scoped>\n",
       "    .dataframe tbody tr th:only-of-type {\n",
       "        vertical-align: middle;\n",
       "    }\n",
       "\n",
       "    .dataframe tbody tr th {\n",
       "        vertical-align: top;\n",
       "    }\n",
       "\n",
       "    .dataframe thead th {\n",
       "        text-align: right;\n",
       "    }\n",
       "</style>\n",
       "<table border=\"1\" class=\"dataframe\">\n",
       "  <thead>\n",
       "    <tr style=\"text-align: right;\">\n",
       "      <th></th>\n",
       "      <th>count</th>\n",
       "    </tr>\n",
       "  </thead>\n",
       "  <tbody>\n",
       "    <tr>\n",
       "      <th>0</th>\n",
       "      <td>3553</td>\n",
       "    </tr>\n",
       "  </tbody>\n",
       "</table>\n",
       "</div>"
      ],
      "text/plain": [
       "   count\n",
       "0   3553"
      ]
     },
     "execution_count": 163,
     "metadata": {},
     "output_type": "execute_result"
    }
   ],
   "source": [
    "# требуется тройное соединение,т.к. нужно конкретное название сферы деятельности:\n",
    "\n",
    "query_5_6 = f'''select \n",
    "                    count(distinct e.id)\n",
    "                from employers e left join employers_industries ei on ei.employer_id=e.id \n",
    "                    left join industries i on ei.industry_id=i.id \n",
    "                where i.name in ('Разработка программного обеспечения')\n",
    "                -- where i.name like '%Разработка программного обеспечения%' -другой вариант вывода условия через like\n",
    "            '''\n",
    "df5_6 = pd.read_sql_query(query_5_6, connection)\n",
    "df5_6\n"
   ]
  },
  {
   "cell_type": "markdown",
   "id": "7b02bb86-0546-40fb-94a4-242f050a5c57",
   "metadata": {
    "id": "7b02bb86-0546-40fb-94a4-242f050a5c57"
   },
   "source": [
    "7. Для компании «Яндекс» выведите список регионов-миллионников, в которых представлены вакансии компании, вместе с количеством вакансий в этих регионах. Также добавьте строку Total с общим количеством вакансий компании. Результат отсортируйте по возрастанию количества.\n",
    "\n",
    "Список городов-милионников надо взять [отсюда](https://ru.wikipedia.org/wiki/%D0%93%D0%BE%D1%80%D0%BE%D0%B4%D0%B0-%D0%BC%D0%B8%D0%BB%D0%BB%D0%B8%D0%BE%D0%BD%D0%B5%D1%80%D1%8B_%D0%A0%D0%BE%D1%81%D1%81%D0%B8%D0%B8). \n",
    "\n",
    "Если возникнут трудности с этим задание посмотрите материалы модуля  PYTHON-17. Как получать данные из веб-источников и API. "
   ]
  },
  {
   "cell_type": "code",
   "execution_count": 164,
   "id": "ZdfrL6gIs1Pn",
   "metadata": {
    "id": "ZdfrL6gIs1Pn"
   },
   "outputs": [
    {
     "data": {
      "text/plain": [
       "('Москва',\n",
       " 'Санкт-Петербург',\n",
       " 'Новосибирск',\n",
       " 'Екатеринбург',\n",
       " 'Казань',\n",
       " 'Нижний Новгород',\n",
       " 'Красноярск',\n",
       " 'Челябинск',\n",
       " 'Самара',\n",
       " 'Уфа',\n",
       " 'Ростов-на-Дону',\n",
       " 'Краснодар',\n",
       " 'Омск',\n",
       " 'Воронеж',\n",
       " 'Пермь',\n",
       " 'Волгоград')"
      ]
     },
     "execution_count": 164,
     "metadata": {},
     "output_type": "execute_result"
    }
   ],
   "source": [
    "# код для получения списка городов-милионников:\n",
    "# Т.к. город Воронеж в таблице в Википедии представлен с окончанием [а], требуется убрать лишнее окончание.\n",
    "# В дальнейм полученный список город выводим в виде кортежа.\n",
    "url = 'https://ru.wikipedia.org/wiki/%D0%93%D0%BE%D1%80%D0%BE%D0%B4%D0%B0-%D0%BC%D0%B8%D0%BB%D0%BB%D0%B8%D0%BE%D0%BD%D0%B5%D1%80%D1%8B_%D0%A0%D0%BE%D1%81%D1%81%D0%B8%D0%B8' \n",
    "df_html = pd.read_html(url) \n",
    "df_cities = df_html[1] \n",
    "df_cities['Город']=df_cities['Город'].apply(lambda x: x.replace('[a]',''))\n",
    "cities = df_cities['Город'].to_list()\n",
    "cit=tuple(cities)\n",
    "cit"
   ]
  },
  {
   "cell_type": "code",
   "execution_count": 165,
   "id": "5a0e32a4-e68a-4365-8a39-2fe24c542c36",
   "metadata": {
    "id": "5a0e32a4-e68a-4365-8a39-2fe24c542c36"
   },
   "outputs": [],
   "source": [
    "# потребуется соединить вакансии с работадателями и регионами и довавить условие по наименованию компании\n",
    "# и городам миллионникам, указанным в кортеже cit\n",
    "\n",
    "query_5_7 = f'''select \n",
    "                    a.name city,\n",
    "                    count(v.id) cnt               -- считаем вакансии по городам\n",
    "                from vacancies v join employers e on v.employer_id=e.id\n",
    "                                 join areas a on v.area_id=a.id \n",
    "                where e.name = 'Яндекс' and a.name in {cit} \n",
    "                group by 1                                 -- для упрощения используем позиционную группировку\n",
    "\n",
    "                union all                                  -- объединяем таблицы по строкам\n",
    "                \n",
    "                select\n",
    "                    'Total', count(v.id)\n",
    "                from vacancies v join employers e on v.employer_id=e.id\n",
    "                                join areas a on v.area_id=a.id \n",
    "                where e.name in ('Яндекс') \n",
    "                and a.name in {cit} \n",
    "                \n",
    "                order by 2\n",
    "            '''\n"
   ]
  },
  {
   "cell_type": "code",
   "execution_count": 166,
   "id": "ttPhiO1rsvPq",
   "metadata": {
    "id": "ttPhiO1rsvPq",
    "scrolled": true
   },
   "outputs": [
    {
     "name": "stderr",
     "output_type": "stream",
     "text": [
      "C:\\Users\\molde\\AppData\\Local\\Temp\\ipykernel_20364\\3789994064.py:2: UserWarning: pandas only supports SQLAlchemy connectable (engine/connection) or database string URI or sqlite3 DBAPI2 connection. Other DBAPI2 objects are not tested. Please consider using SQLAlchemy.\n",
      "  df5_7 = pd.read_sql_query(query_5_7, connection)\n"
     ]
    },
    {
     "data": {
      "text/html": [
       "<div>\n",
       "<style scoped>\n",
       "    .dataframe tbody tr th:only-of-type {\n",
       "        vertical-align: middle;\n",
       "    }\n",
       "\n",
       "    .dataframe tbody tr th {\n",
       "        vertical-align: top;\n",
       "    }\n",
       "\n",
       "    .dataframe thead th {\n",
       "        text-align: right;\n",
       "    }\n",
       "</style>\n",
       "<table border=\"1\" class=\"dataframe\">\n",
       "  <thead>\n",
       "    <tr style=\"text-align: right;\">\n",
       "      <th></th>\n",
       "      <th>city</th>\n",
       "      <th>cnt</th>\n",
       "    </tr>\n",
       "  </thead>\n",
       "  <tbody>\n",
       "    <tr>\n",
       "      <th>0</th>\n",
       "      <td>Омск</td>\n",
       "      <td>21</td>\n",
       "    </tr>\n",
       "    <tr>\n",
       "      <th>1</th>\n",
       "      <td>Челябинск</td>\n",
       "      <td>22</td>\n",
       "    </tr>\n",
       "    <tr>\n",
       "      <th>2</th>\n",
       "      <td>Красноярск</td>\n",
       "      <td>23</td>\n",
       "    </tr>\n",
       "    <tr>\n",
       "      <th>3</th>\n",
       "      <td>Волгоград</td>\n",
       "      <td>24</td>\n",
       "    </tr>\n",
       "    <tr>\n",
       "      <th>4</th>\n",
       "      <td>Пермь</td>\n",
       "      <td>25</td>\n",
       "    </tr>\n",
       "    <tr>\n",
       "      <th>5</th>\n",
       "      <td>Казань</td>\n",
       "      <td>25</td>\n",
       "    </tr>\n",
       "    <tr>\n",
       "      <th>6</th>\n",
       "      <td>Ростов-на-Дону</td>\n",
       "      <td>25</td>\n",
       "    </tr>\n",
       "    <tr>\n",
       "      <th>7</th>\n",
       "      <td>Уфа</td>\n",
       "      <td>26</td>\n",
       "    </tr>\n",
       "    <tr>\n",
       "      <th>8</th>\n",
       "      <td>Самара</td>\n",
       "      <td>26</td>\n",
       "    </tr>\n",
       "    <tr>\n",
       "      <th>9</th>\n",
       "      <td>Краснодар</td>\n",
       "      <td>30</td>\n",
       "    </tr>\n",
       "    <tr>\n",
       "      <th>10</th>\n",
       "      <td>Воронеж</td>\n",
       "      <td>32</td>\n",
       "    </tr>\n",
       "    <tr>\n",
       "      <th>11</th>\n",
       "      <td>Новосибирск</td>\n",
       "      <td>35</td>\n",
       "    </tr>\n",
       "    <tr>\n",
       "      <th>12</th>\n",
       "      <td>Нижний Новгород</td>\n",
       "      <td>36</td>\n",
       "    </tr>\n",
       "    <tr>\n",
       "      <th>13</th>\n",
       "      <td>Екатеринбург</td>\n",
       "      <td>39</td>\n",
       "    </tr>\n",
       "    <tr>\n",
       "      <th>14</th>\n",
       "      <td>Санкт-Петербург</td>\n",
       "      <td>42</td>\n",
       "    </tr>\n",
       "    <tr>\n",
       "      <th>15</th>\n",
       "      <td>Москва</td>\n",
       "      <td>54</td>\n",
       "    </tr>\n",
       "    <tr>\n",
       "      <th>16</th>\n",
       "      <td>Total</td>\n",
       "      <td>485</td>\n",
       "    </tr>\n",
       "  </tbody>\n",
       "</table>\n",
       "</div>"
      ],
      "text/plain": [
       "               city  cnt\n",
       "0              Омск   21\n",
       "1         Челябинск   22\n",
       "2        Красноярск   23\n",
       "3         Волгоград   24\n",
       "4             Пермь   25\n",
       "5            Казань   25\n",
       "6    Ростов-на-Дону   25\n",
       "7               Уфа   26\n",
       "8            Самара   26\n",
       "9         Краснодар   30\n",
       "10          Воронеж   32\n",
       "11      Новосибирск   35\n",
       "12  Нижний Новгород   36\n",
       "13     Екатеринбург   39\n",
       "14  Санкт-Петербург   42\n",
       "15           Москва   54\n",
       "16            Total  485"
      ]
     },
     "execution_count": 166,
     "metadata": {},
     "output_type": "execute_result"
    }
   ],
   "source": [
    "# результат запроса\n",
    "df5_7 = pd.read_sql_query(query_5_7, connection)\n",
    "df5_7"
   ]
  },
  {
   "cell_type": "markdown",
   "id": "04966e40-3bc3-4dc8-9ba2-e80580ce3abc",
   "metadata": {
    "id": "04966e40-3bc3-4dc8-9ba2-e80580ce3abc"
   },
   "source": [
    "***"
   ]
  },
  {
   "cell_type": "markdown",
   "id": "291bf982",
   "metadata": {
    "id": "aGGyER-yt4SR"
   },
   "source": [
    "### Выводы по анализу работодателей:\n",
    "\n",
    "По имеющимся запросам можно сделать вывод о том, что самые большие компании, такие как Яндекс, Ростелеком, Сбер, выкладывают наибольшее количество предложений для соискателей. Безусловный лидер по количеству регионов размещения вакансий-это Яндекс, он же является и лидером по общему количеству вакансий в исследуемых данных (4% от числа всех вакансий).\n",
    "\n",
    "Около трети всех работодателей из справочника не указали сферы деятельности (8419), возможно именно эти работодатели не размещали и вакансий, поскольку порядка 36% работодателей из справочника не предлагали вакансий в рассматриваемый период.\n",
    "\n",
    "Только 15% от общего числа работодателей из справочника занимаются разработкой программного обеспечения. Если сделать аналогичный запрос учитывая только работодателей, размещавших вакансии, то их количество сократиться до 2592, но увеличится в процентом отношении до 17%. Мы не рассматриваем другие сферы деятельнольности, т.к. в отрыве от информации по вакансиям значение данной информации не является решающим.\n",
    "\n"
   ]
  },
  {
   "cell_type": "markdown",
   "id": "b1ef156a-efcb-49ce-bb23-90763e7f35b2",
   "metadata": {
    "id": "b1ef156a-efcb-49ce-bb23-90763e7f35b2",
    "tags": []
   },
   "source": [
    "# Юнит 6. Предметный анализ"
   ]
  },
  {
   "cell_type": "markdown",
   "id": "b9cd50a0-992d-4988-8463-2b2b1c4629b4",
   "metadata": {
    "id": "b9cd50a0-992d-4988-8463-2b2b1c4629b4"
   },
   "source": [
    "1. Сколько вакансий имеет отношение к данным?\n",
    "\n",
    "Считаем, что вакансия имеет отношение к данным, если в её названии содержатся слова 'data' или 'данн'.\n",
    "\n",
    "*Подсказка: Обратите внимание, что названия вакансий могут быть написаны в любом регистре.* \n"
   ]
  },
  {
   "cell_type": "code",
   "execution_count": 167,
   "id": "54ab0e50-c0f1-47cc-a54b-bc5c8bc363f9",
   "metadata": {
    "id": "54ab0e50-c0f1-47cc-a54b-bc5c8bc363f9"
   },
   "outputs": [],
   "source": [
    "# c помощью lower и like ищем все требуемые сочетания в наименованиях вакансий и считаем количество полученных строк:\n",
    "query_6_1 = f'''select\n",
    "                    count(id)\n",
    "                from vacancies\n",
    "                where lower(name) like '%data%' or lower(name) like '%данн%'\n",
    "\n",
    "'''"
   ]
  },
  {
   "cell_type": "code",
   "execution_count": 168,
   "id": "9F1meAqsuUjd",
   "metadata": {
    "id": "9F1meAqsuUjd"
   },
   "outputs": [
    {
     "name": "stderr",
     "output_type": "stream",
     "text": [
      "C:\\Users\\molde\\AppData\\Local\\Temp\\ipykernel_20364\\812706.py:2: UserWarning: pandas only supports SQLAlchemy connectable (engine/connection) or database string URI or sqlite3 DBAPI2 connection. Other DBAPI2 objects are not tested. Please consider using SQLAlchemy.\n",
      "  df6_1 = pd.read_sql_query(query_6_1, connection)\n"
     ]
    },
    {
     "data": {
      "text/html": [
       "<div>\n",
       "<style scoped>\n",
       "    .dataframe tbody tr th:only-of-type {\n",
       "        vertical-align: middle;\n",
       "    }\n",
       "\n",
       "    .dataframe tbody tr th {\n",
       "        vertical-align: top;\n",
       "    }\n",
       "\n",
       "    .dataframe thead th {\n",
       "        text-align: right;\n",
       "    }\n",
       "</style>\n",
       "<table border=\"1\" class=\"dataframe\">\n",
       "  <thead>\n",
       "    <tr style=\"text-align: right;\">\n",
       "      <th></th>\n",
       "      <th>count</th>\n",
       "    </tr>\n",
       "  </thead>\n",
       "  <tbody>\n",
       "    <tr>\n",
       "      <th>0</th>\n",
       "      <td>1771</td>\n",
       "    </tr>\n",
       "  </tbody>\n",
       "</table>\n",
       "</div>"
      ],
      "text/plain": [
       "   count\n",
       "0   1771"
      ]
     },
     "execution_count": 168,
     "metadata": {},
     "output_type": "execute_result"
    }
   ],
   "source": [
    "# результат запроса\n",
    "df6_1 = pd.read_sql_query(query_6_1, connection)\n",
    "df6_1"
   ]
  },
  {
   "cell_type": "markdown",
   "id": "4dea20cb-a36b-474a-a0b9-e08e8e3857a5",
   "metadata": {
    "id": "4dea20cb-a36b-474a-a0b9-e08e8e3857a5"
   },
   "source": [
    "2. Сколько есть подходящих вакансий для начинающего дата-сайентиста? \n",
    "Будем считать вакансиями для дата-сайентистов такие, в названии которых есть хотя бы одно из следующих сочетаний:\n",
    "* 'data scientist'\n",
    "* 'data science'\n",
    "* 'исследователь данных'\n",
    "* 'ML' (здесь не нужно брать вакансии по HTML)\n",
    "* 'machine learning'\n",
    "* 'машинн%обучен%'\n",
    "\n",
    "** В следующих заданиях мы продолжим работать с вакансиями по этому условию.*\n",
    "\n",
    "Считаем вакансиями для специалистов уровня Junior следующие:\n",
    "* в названии есть слово 'junior' *или*\n",
    "* требуемый опыт — Нет опыта *или*\n",
    "* тип трудоустройства — Стажировка.\n",
    " "
   ]
  },
  {
   "cell_type": "code",
   "execution_count": 191,
   "id": "9c61b3c0-bb66-46c9-ae1e-81d3f5752b4a",
   "metadata": {
    "id": "9c61b3c0-bb66-46c9-ae1e-81d3f5752b4a"
   },
   "outputs": [],
   "source": [
    "# Все аналогично предыдущему запросу, только условий немного побольше.\n",
    "# Условия по дата-саентисту записываем через оператор ИЛИ(OR),выделяя их скобками,\n",
    "# затем добавляем условие по Junior через оператор  И(AND)\n",
    "\n",
    "query_6_2 = f'''select \n",
    "                    count(id)\n",
    "                from vacancies \n",
    "                where (lower(name) like '%data scientist%'\n",
    "                       or lower(name) like '%data science%'\n",
    "                       or lower(name) like '%исследователь данных%'\n",
    "                       or lower(name) like '%machine learning%'\n",
    "                       or (name like '%ML%' and name not like '%HTML%')\n",
    "                       or lower(name) like '%машинн%обучен%')\n",
    "                       and (lower(name) like '%junior%' or employment='Стажировка' or experience='Нет опыта')\n",
    "            '''"
   ]
  },
  {
   "cell_type": "code",
   "execution_count": 170,
   "id": "ZNM-LLYuu1dj",
   "metadata": {
    "id": "ZNM-LLYuu1dj"
   },
   "outputs": [
    {
     "name": "stderr",
     "output_type": "stream",
     "text": [
      "C:\\Users\\molde\\AppData\\Local\\Temp\\ipykernel_20364\\2100022383.py:3: UserWarning: pandas only supports SQLAlchemy connectable (engine/connection) or database string URI or sqlite3 DBAPI2 connection. Other DBAPI2 objects are not tested. Please consider using SQLAlchemy.\n",
      "  df6_2 = pd.read_sql_query(query_6_2, connection)\n"
     ]
    },
    {
     "data": {
      "text/html": [
       "<div>\n",
       "<style scoped>\n",
       "    .dataframe tbody tr th:only-of-type {\n",
       "        vertical-align: middle;\n",
       "    }\n",
       "\n",
       "    .dataframe tbody tr th {\n",
       "        vertical-align: top;\n",
       "    }\n",
       "\n",
       "    .dataframe thead th {\n",
       "        text-align: right;\n",
       "    }\n",
       "</style>\n",
       "<table border=\"1\" class=\"dataframe\">\n",
       "  <thead>\n",
       "    <tr style=\"text-align: right;\">\n",
       "      <th></th>\n",
       "      <th>count</th>\n",
       "    </tr>\n",
       "  </thead>\n",
       "  <tbody>\n",
       "    <tr>\n",
       "      <th>0</th>\n",
       "      <td>51</td>\n",
       "    </tr>\n",
       "  </tbody>\n",
       "</table>\n",
       "</div>"
      ],
      "text/plain": [
       "   count\n",
       "0     51"
      ]
     },
     "execution_count": 170,
     "metadata": {},
     "output_type": "execute_result"
    }
   ],
   "source": [
    "# результат запроса\n",
    "\n",
    "df6_2 = pd.read_sql_query(query_6_2, connection)\n",
    "df6_2"
   ]
  },
  {
   "cell_type": "markdown",
   "id": "eedceb80-c5ca-480e-b27a-278dfb8b4438",
   "metadata": {
    "id": "eedceb80-c5ca-480e-b27a-278dfb8b4438"
   },
   "source": [
    "3. Сколько есть вакансий для DS, в которых в качестве ключевого навыка указан SQL или postgres?\n",
    "\n",
    "** Критерии для отнесения вакансии к DS указаны в предыдущем задании.*"
   ]
  },
  {
   "cell_type": "code",
   "execution_count": 211,
   "id": "69621713-0cc5-4f1b-a1d7-bb144fa6148c",
   "metadata": {
    "id": "69621713-0cc5-4f1b-a1d7-bb144fa6148c"
   },
   "outputs": [],
   "source": [
    "# все аналогично предыдущим запросам просто меняем последнее условие:\n",
    "query_6_3 = f'''select\n",
    "                    count(distinct id)\n",
    "                from vacancies \n",
    "                where (lower(name) like '%data scientist%'\n",
    "                       or lower(name) like '%data science%'\n",
    "                       or lower(name) like '%исследователь данных%'\n",
    "                       or lower(name) like '%machine learning%'\n",
    "                       or (name ilike '%ML%' and name not ilike '%HTML%')\n",
    "                       or lower(name) like '%машинн%обучен%')\n",
    "                       and (key_skills ilike '%SQL%' or key_skills ilike '%postgres%')\n",
    "            '''"
   ]
  },
  {
   "cell_type": "code",
   "execution_count": 212,
   "id": "alA8WEAAvGdf",
   "metadata": {
    "id": "alA8WEAAvGdf"
   },
   "outputs": [
    {
     "name": "stderr",
     "output_type": "stream",
     "text": [
      "C:\\Users\\molde\\AppData\\Local\\Temp\\ipykernel_20364\\1386111432.py:2: UserWarning: pandas only supports SQLAlchemy connectable (engine/connection) or database string URI or sqlite3 DBAPI2 connection. Other DBAPI2 objects are not tested. Please consider using SQLAlchemy.\n",
      "  df6_3 = pd.read_sql_query(query_6_3, connection)\n"
     ]
    },
    {
     "data": {
      "text/html": [
       "<div>\n",
       "<style scoped>\n",
       "    .dataframe tbody tr th:only-of-type {\n",
       "        vertical-align: middle;\n",
       "    }\n",
       "\n",
       "    .dataframe tbody tr th {\n",
       "        vertical-align: top;\n",
       "    }\n",
       "\n",
       "    .dataframe thead th {\n",
       "        text-align: right;\n",
       "    }\n",
       "</style>\n",
       "<table border=\"1\" class=\"dataframe\">\n",
       "  <thead>\n",
       "    <tr style=\"text-align: right;\">\n",
       "      <th></th>\n",
       "      <th>count</th>\n",
       "    </tr>\n",
       "  </thead>\n",
       "  <tbody>\n",
       "    <tr>\n",
       "      <th>0</th>\n",
       "      <td>229</td>\n",
       "    </tr>\n",
       "  </tbody>\n",
       "</table>\n",
       "</div>"
      ],
      "text/plain": [
       "   count\n",
       "0    229"
      ]
     },
     "execution_count": 212,
     "metadata": {},
     "output_type": "execute_result"
    }
   ],
   "source": [
    "# результат запроса\n",
    "df6_3 = pd.read_sql_query(query_6_3, connection)\n",
    "df6_3"
   ]
  },
  {
   "cell_type": "code",
   "execution_count": 225,
   "id": "1c9ee32b",
   "metadata": {},
   "outputs": [
    {
     "name": "stderr",
     "output_type": "stream",
     "text": [
      "C:\\Users\\molde\\AppData\\Local\\Temp\\ipykernel_20364\\873839491.py:14: UserWarning: pandas only supports SQLAlchemy connectable (engine/connection) or database string URI or sqlite3 DBAPI2 connection. Other DBAPI2 objects are not tested. Please consider using SQLAlchemy.\n",
      "  df_DS = pd.read_sql_query(query_DS, connection)\n"
     ]
    },
    {
     "data": {
      "text/html": [
       "<div>\n",
       "<style scoped>\n",
       "    .dataframe tbody tr th:only-of-type {\n",
       "        vertical-align: middle;\n",
       "    }\n",
       "\n",
       "    .dataframe tbody tr th {\n",
       "        vertical-align: top;\n",
       "    }\n",
       "\n",
       "    .dataframe thead th {\n",
       "        text-align: right;\n",
       "    }\n",
       "</style>\n",
       "<table border=\"1\" class=\"dataframe\">\n",
       "  <thead>\n",
       "    <tr style=\"text-align: right;\">\n",
       "      <th></th>\n",
       "      <th>count</th>\n",
       "    </tr>\n",
       "  </thead>\n",
       "  <tbody>\n",
       "    <tr>\n",
       "      <th>0</th>\n",
       "      <td>536</td>\n",
       "    </tr>\n",
       "  </tbody>\n",
       "</table>\n",
       "</div>"
      ],
      "text/plain": [
       "   count\n",
       "0    536"
      ]
     },
     "execution_count": 225,
     "metadata": {},
     "output_type": "execute_result"
    }
   ],
   "source": [
    "# Дополнительно посчитаем общее количество вакансий по DS без добавочных условий:\n",
    "query_DS = f'''select\n",
    "                    count(distinct id)\n",
    "                from vacancies \n",
    "                where (lower(name) like '%data scientist%'\n",
    "                       or lower(name) like '%data science%'\n",
    "                       or lower(name) like '%исследователь данных%'\n",
    "                       or lower(name) like '%machine learning%'\n",
    "                       or (name ilike '%ML%' and name not ilike '%HTML%')\n",
    "                       or lower(name) like '%машинн%обучен%')\n",
    "                       \n",
    "            '''\n",
    "\n",
    "df_DS = pd.read_sql_query(query_DS, connection)\n",
    "df_DS"
   ]
  },
  {
   "cell_type": "markdown",
   "id": "1be1e9c6-37cf-4a5f-bfeb-04cab799dc80",
   "metadata": {
    "id": "1be1e9c6-37cf-4a5f-bfeb-04cab799dc80"
   },
   "source": [
    "4. Проверьте, насколько популярен Python в требованиях работодателей к DS.Для этого вычислите количество вакансий, в которых в качестве ключевого навыка указан Python.\n",
    "\n",
    "** Это можно сделать помощью запроса, аналогичного предыдущему.*"
   ]
  },
  {
   "cell_type": "code",
   "execution_count": 222,
   "id": "0036a355-9ccf-4564-8b01-73d8194297e7",
   "metadata": {
    "id": "0036a355-9ccf-4564-8b01-73d8194297e7"
   },
   "outputs": [],
   "source": [
    "# меняем последнее условие согласно запросу, остальное все аналогично предыдущим запросам:\n",
    "query_6_4 = f'''select\n",
    "                    count(distinct id)\n",
    "                from vacancies \n",
    "                where (lower(name) like '%data scientist%'\n",
    "                   or lower(name) like '%data science%'\n",
    "                   or lower(name) like '%исследователь данных%'\n",
    "                   or lower(name) like '%machine learning%'\n",
    "                   or (name ilike '%ML%' and name not ilike '%HTML%')\n",
    "                   or lower(name) like '%машинн%обучен%')\n",
    "                   and (key_skills ilike '%Python%')\n",
    "            '''"
   ]
  },
  {
   "cell_type": "code",
   "execution_count": 223,
   "id": "1i-5WyucvQ6v",
   "metadata": {
    "id": "1i-5WyucvQ6v"
   },
   "outputs": [
    {
     "name": "stderr",
     "output_type": "stream",
     "text": [
      "C:\\Users\\molde\\AppData\\Local\\Temp\\ipykernel_20364\\1082095079.py:1: UserWarning: pandas only supports SQLAlchemy connectable (engine/connection) or database string URI or sqlite3 DBAPI2 connection. Other DBAPI2 objects are not tested. Please consider using SQLAlchemy.\n",
      "  df6_4 = pd.read_sql_query(query_6_4, connection)\n"
     ]
    },
    {
     "data": {
      "text/html": [
       "<div>\n",
       "<style scoped>\n",
       "    .dataframe tbody tr th:only-of-type {\n",
       "        vertical-align: middle;\n",
       "    }\n",
       "\n",
       "    .dataframe tbody tr th {\n",
       "        vertical-align: top;\n",
       "    }\n",
       "\n",
       "    .dataframe thead th {\n",
       "        text-align: right;\n",
       "    }\n",
       "</style>\n",
       "<table border=\"1\" class=\"dataframe\">\n",
       "  <thead>\n",
       "    <tr style=\"text-align: right;\">\n",
       "      <th></th>\n",
       "      <th>count</th>\n",
       "    </tr>\n",
       "  </thead>\n",
       "  <tbody>\n",
       "    <tr>\n",
       "      <th>0</th>\n",
       "      <td>357</td>\n",
       "    </tr>\n",
       "  </tbody>\n",
       "</table>\n",
       "</div>"
      ],
      "text/plain": [
       "   count\n",
       "0    357"
      ]
     },
     "execution_count": 223,
     "metadata": {},
     "output_type": "execute_result"
    }
   ],
   "source": [
    "df6_4 = pd.read_sql_query(query_6_4, connection)\n",
    "df6_4"
   ]
  },
  {
   "cell_type": "markdown",
   "id": "ec3c8db7-fa21-4a41-a994-1af63742a642",
   "metadata": {
    "id": "ec3c8db7-fa21-4a41-a994-1af63742a642"
   },
   "source": [
    "5. Сколько ключевых навыков в среднем указывают в вакансиях для DS?\n",
    "Ответ округлите до двух знаков после точки-разделителя."
   ]
  },
  {
   "cell_type": "code",
   "execution_count": 176,
   "id": "949132bc-d5b6-4611-8218-0b9a504d74f4",
   "metadata": {
    "id": "949132bc-d5b6-4611-8218-0b9a504d74f4"
   },
   "outputs": [],
   "source": [
    "#  как и предудущих запросам нам потребуется только таблица вакансий:\n",
    "query_6_5 = f'''select\n",
    "                /*Расчитывая среднее количество навыков для DS, необходимо прибавить единицу,\n",
    "                поскольку мы считаем промежутки между указанными навыками, а их всегда на единицу меньше */\n",
    "                    round(avg((length(key_skills) - length(replace(key_skills, CHR(9), '')))+1), 2)\n",
    "                from vacancies \n",
    "                where (lower(name) like '%data scientist%'\n",
    "                   or lower(name) like '%data science%'\n",
    "                   or lower(name) like '%исследователь данных%'\n",
    "                   or lower(name) like '%machine learning%'\n",
    "                   or (name like '%ML%' and name not like '%HTML%')\n",
    "                   or lower(name) like '%машинн%обучен%')\n",
    "                   and (key_skills is not null)\n",
    "            '''"
   ]
  },
  {
   "cell_type": "code",
   "execution_count": 177,
   "id": "a3V24Tvmviqk",
   "metadata": {
    "id": "a3V24Tvmviqk"
   },
   "outputs": [
    {
     "name": "stderr",
     "output_type": "stream",
     "text": [
      "C:\\Users\\molde\\AppData\\Local\\Temp\\ipykernel_20364\\3680160810.py:1: UserWarning: pandas only supports SQLAlchemy connectable (engine/connection) or database string URI or sqlite3 DBAPI2 connection. Other DBAPI2 objects are not tested. Please consider using SQLAlchemy.\n",
      "  df6_5 = pd.read_sql_query(query_6_5, connection)\n"
     ]
    },
    {
     "data": {
      "text/html": [
       "<div>\n",
       "<style scoped>\n",
       "    .dataframe tbody tr th:only-of-type {\n",
       "        vertical-align: middle;\n",
       "    }\n",
       "\n",
       "    .dataframe tbody tr th {\n",
       "        vertical-align: top;\n",
       "    }\n",
       "\n",
       "    .dataframe thead th {\n",
       "        text-align: right;\n",
       "    }\n",
       "</style>\n",
       "<table border=\"1\" class=\"dataframe\">\n",
       "  <thead>\n",
       "    <tr style=\"text-align: right;\">\n",
       "      <th></th>\n",
       "      <th>round</th>\n",
       "    </tr>\n",
       "  </thead>\n",
       "  <tbody>\n",
       "    <tr>\n",
       "      <th>0</th>\n",
       "      <td>6.41</td>\n",
       "    </tr>\n",
       "  </tbody>\n",
       "</table>\n",
       "</div>"
      ],
      "text/plain": [
       "   round\n",
       "0   6.41"
      ]
     },
     "execution_count": 177,
     "metadata": {},
     "output_type": "execute_result"
    }
   ],
   "source": [
    "df6_5 = pd.read_sql_query(query_6_5, connection)\n",
    "df6_5"
   ]
  },
  {
   "cell_type": "markdown",
   "id": "1041c17a-ca8f-4543-a0ca-32778914fb00",
   "metadata": {
    "id": "1041c17a-ca8f-4543-a0ca-32778914fb00"
   },
   "source": [
    "6. Напишите запрос, позволяющий вычислить, какую зарплату для DS в **среднем** указывают для каждого типа требуемого опыта (уникальное значение из поля *experience*). \n",
    "\n",
    "При решении задачи примите во внимание следующее:\n",
    "1. Рассматриваем только вакансии, у которых заполнено хотя бы одно из двух полей с зарплатой.\n",
    "2. Если заполнены оба поля с зарплатой, то считаем зарплату по каждой вакансии как сумму двух полей, делённую на 2. Если заполнено только одно из полей, то его и считаем зарплатой по вакансии.\n",
    "3. Если в расчётах участвует null, в результате он тоже даст null (посмотрите, что возвращает запрос select 1 + null). Чтобы избежать этой ситуацию, мы воспользуемся функцией [coalesce](https://postgrespro.ru/docs/postgresql/9.5/functions-conditional#functions-coalesce-nvl-ifnull), которая заменит null на значение, которое мы передадим. Например, посмотрите, что возвращает запрос `select 1 + coalesce(null, 0)`\n",
    "\n",
    "Выясните, на какую зарплату в среднем может рассчитывать дата-сайентист с опытом работы от 3 до 6 лет. Результат округлите до целого числа. "
   ]
  },
  {
   "cell_type": "code",
   "execution_count": 189,
   "id": "6a743d39-5204-48d3-8271-b9f88e68d40e",
   "metadata": {
    "id": "6a743d39-5204-48d3-8271-b9f88e68d40e"
   },
   "outputs": [],
   "source": [
    "# с помощью coalesce() меняем NULL на значение  заполненного столбца, чтобы в каждом столце получить ненулневое значение:\n",
    "query_6_6 = f'''select\n",
    "                    experience,\n",
    "                    round(avg((coalesce(salary_from, salary_to)+coalesce(salary_to, salary_from))/2))\n",
    "\n",
    "                from vacancies \n",
    "                where (lower(name) like '%data scientist%'\n",
    "                   or lower(name) like '%data science%'\n",
    "                   or lower(name) like '%исследователь данных%'\n",
    "                   or lower(name) like '%machine learning%'\n",
    "                   or (name like '%ML%' and name not like '%HTML%')\n",
    "                   or lower(name) like '%машинн%обучен%')\n",
    "                and (salary_from is not null or salary_to is not null)\n",
    "                group by 1     -- позиционная группировка по первому столбцу\n",
    "            '''"
   ]
  },
  {
   "cell_type": "code",
   "execution_count": 190,
   "id": "aRIJ0mZEwU1_",
   "metadata": {
    "id": "aRIJ0mZEwU1_"
   },
   "outputs": [
    {
     "name": "stderr",
     "output_type": "stream",
     "text": [
      "C:\\Users\\molde\\AppData\\Local\\Temp\\ipykernel_20364\\4057604039.py:2: UserWarning: pandas only supports SQLAlchemy connectable (engine/connection) or database string URI or sqlite3 DBAPI2 connection. Other DBAPI2 objects are not tested. Please consider using SQLAlchemy.\n",
      "  df6_6 = pd.read_sql_query(query_6_6, connection)\n"
     ]
    },
    {
     "data": {
      "text/html": [
       "<div>\n",
       "<style scoped>\n",
       "    .dataframe tbody tr th:only-of-type {\n",
       "        vertical-align: middle;\n",
       "    }\n",
       "\n",
       "    .dataframe tbody tr th {\n",
       "        vertical-align: top;\n",
       "    }\n",
       "\n",
       "    .dataframe thead th {\n",
       "        text-align: right;\n",
       "    }\n",
       "</style>\n",
       "<table border=\"1\" class=\"dataframe\">\n",
       "  <thead>\n",
       "    <tr style=\"text-align: right;\">\n",
       "      <th></th>\n",
       "      <th>experience</th>\n",
       "      <th>round</th>\n",
       "    </tr>\n",
       "  </thead>\n",
       "  <tbody>\n",
       "    <tr>\n",
       "      <th>0</th>\n",
       "      <td>Нет опыта</td>\n",
       "      <td>74643.0</td>\n",
       "    </tr>\n",
       "    <tr>\n",
       "      <th>1</th>\n",
       "      <td>От 1 года до 3 лет</td>\n",
       "      <td>139675.0</td>\n",
       "    </tr>\n",
       "    <tr>\n",
       "      <th>2</th>\n",
       "      <td>От 3 до 6 лет</td>\n",
       "      <td>243115.0</td>\n",
       "    </tr>\n",
       "  </tbody>\n",
       "</table>\n",
       "</div>"
      ],
      "text/plain": [
       "           experience     round\n",
       "0           Нет опыта   74643.0\n",
       "1  От 1 года до 3 лет  139675.0\n",
       "2       От 3 до 6 лет  243115.0"
      ]
     },
     "execution_count": 190,
     "metadata": {},
     "output_type": "execute_result"
    }
   ],
   "source": [
    "# результат запроса\n",
    "df6_6 = pd.read_sql_query(query_6_6, connection)\n",
    "df6_6"
   ]
  },
  {
   "cell_type": "markdown",
   "id": "6a7892b4-4113-4746-adce-18aa2844f18e",
   "metadata": {
    "id": "6a7892b4-4113-4746-adce-18aa2844f18e"
   },
   "source": [
    "***"
   ]
  },
  {
   "cell_type": "markdown",
   "id": "93cec006",
   "metadata": {
    "id": "UjLWUptVwY1o"
   },
   "source": [
    "### Выводы по предметному анализу:\n",
    "\n",
    "В этом разделе мы исследовали вакансии связанные с DS. Самих вакансий, связанных с данными, в представленных таблицах не так много-около 3,6% от общего числа всех вакансий. Для джуниоров без опыта работы или ищущих стажировку ситуация выглядит еще менее перспективно - только 51 вакансия. Вакансий для DS без доп условий всего 480 (27% от вакансий, связанных с данными). Соискатели на DS должны иметь в среднем больше шести навыков, причем знание Python требуют 71% от числа вакансий DS и 42%- SQL соответственно. Написание кода на Python является одним из ключевых навыков для DS.\n",
    "\n",
    "Усредненная заработная плата новичков более чем в три раза меньше, чем у специалистов с опытом работы от 3 лет. Дата-сайентисты с небольшим опытом работы могут рассчитывать в среднем на 140 тыс. руб., что почти в два раза меньше, чем у соискателей с опытом от 3-х лет, что является неплохим стимулом для продвижения в профессии.\n",
    "\n",
    "Таким образом, специализация DS не такая востребованная, как ожидалось, требующая при этом достаточно много навыков от соискателей. Найти работу новичкам очень сложно из-за малого количества предложений. Но сравнительно малый период для повышения дохода почти в три раза делают это направление привлекательным для будущих соискателей.\n"
   ]
  },
  {
   "cell_type": "markdown",
   "id": "c0ED6fh7wiBT",
   "metadata": {
    "id": "c0ED6fh7wiBT"
   },
   "source": [
    "# Общий вывод по проекту"
   ]
  },
  {
   "cell_type": "markdown",
   "id": "97bfb54e",
   "metadata": {
    "id": "h9B3BL-wwj18"
   },
   "source": [
    "### Дополнительное исследование.\n",
    "Прежде чем перейти к общим выводам по проекту, проанализируем еще некоторые взаимосвязи, которые ранее нами не были рассмтрены.\n",
    "\n",
    "Чтобы далеко не уходить от нашей основной таблицы вакансий, посмотрим на самые популярные вакансии в IT в предоставленных данных. Направление DS не так популярно, т.к.ранее нами было выявлено всего 480 вакансий. Отбор будем с учетом возможных повторений при этом выберем первые пять и добавим к ним для сравнения наши отобраные вакансии для DS."
   ]
  },
  {
   "cell_type": "code",
   "execution_count": 226,
   "id": "f3b1d49e",
   "metadata": {},
   "outputs": [
    {
     "name": "stderr",
     "output_type": "stream",
     "text": [
      "C:\\Users\\molde\\AppData\\Local\\Temp\\ipykernel_20364\\406979804.py:22: UserWarning: pandas only supports SQLAlchemy connectable (engine/connection) or database string URI or sqlite3 DBAPI2 connection. Other DBAPI2 objects are not tested. Please consider using SQLAlchemy.\n",
      "  df_7_1 = pd.read_sql_query(query_7_1, connection)\n"
     ]
    },
    {
     "data": {
      "text/html": [
       "<div>\n",
       "<style scoped>\n",
       "    .dataframe tbody tr th:only-of-type {\n",
       "        vertical-align: middle;\n",
       "    }\n",
       "\n",
       "    .dataframe tbody tr th {\n",
       "        vertical-align: top;\n",
       "    }\n",
       "\n",
       "    .dataframe thead th {\n",
       "        text-align: right;\n",
       "    }\n",
       "</style>\n",
       "<table border=\"1\" class=\"dataframe\">\n",
       "  <thead>\n",
       "    <tr style=\"text-align: right;\">\n",
       "      <th></th>\n",
       "      <th>name</th>\n",
       "      <th>cnt</th>\n",
       "    </tr>\n",
       "  </thead>\n",
       "  <tbody>\n",
       "    <tr>\n",
       "      <th>0</th>\n",
       "      <td>Системный администратор</td>\n",
       "      <td>1761</td>\n",
       "    </tr>\n",
       "    <tr>\n",
       "      <th>1</th>\n",
       "      <td>Программист 1С</td>\n",
       "      <td>1153</td>\n",
       "    </tr>\n",
       "    <tr>\n",
       "      <th>2</th>\n",
       "      <td>Бизнес-аналитик</td>\n",
       "      <td>488</td>\n",
       "    </tr>\n",
       "    <tr>\n",
       "      <th>3</th>\n",
       "      <td>Специалист технической поддержки</td>\n",
       "      <td>457</td>\n",
       "    </tr>\n",
       "    <tr>\n",
       "      <th>4</th>\n",
       "      <td>Системный аналитик</td>\n",
       "      <td>432</td>\n",
       "    </tr>\n",
       "    <tr>\n",
       "      <th>5</th>\n",
       "      <td>Вакансиии для DS</td>\n",
       "      <td>480</td>\n",
       "    </tr>\n",
       "  </tbody>\n",
       "</table>\n",
       "</div>"
      ],
      "text/plain": [
       "                               name   cnt\n",
       "0           Системный администратор  1761\n",
       "1                    Программист 1С  1153\n",
       "2                   Бизнес-аналитик   488\n",
       "3  Специалист технической поддержки   457\n",
       "4                Системный аналитик   432\n",
       "5                  Вакансиии для DS   480"
      ]
     },
     "execution_count": 226,
     "metadata": {},
     "output_type": "execute_result"
    }
   ],
   "source": [
    "query_7_1 = f'''(select\n",
    "                   name,\n",
    "                   count(id) cnt\n",
    "              from vacancies \n",
    "              group by 1\n",
    "              order by  cnt desc\n",
    "              limit 5)\n",
    "              \n",
    "              union all\n",
    "              \n",
    "              (select\n",
    "                    'Вакансиии для DS',\n",
    "                    count(distinct id)\n",
    "                from vacancies \n",
    "                where (lower(name) like '%data scientist%'\n",
    "                       or lower(name) like '%data science%'\n",
    "                       or lower(name) like '%исследователь данных%'\n",
    "                       or lower(name) like '%machine learning%'\n",
    "                       or (name like '%ML%' and name not like '%HTML%')\n",
    "                       or lower(name) like '%машинн%обучен%'))\n",
    "            '''\n",
    "df_7_1 = pd.read_sql_query(query_7_1, connection)\n",
    "df_7_1"
   ]
  },
  {
   "cell_type": "code",
   "execution_count": 181,
   "id": "093453c5",
   "metadata": {},
   "outputs": [
    {
     "data": {
      "image/png": "[encoded data removed]",
      "text/plain": [
       "<Figure size 2000x800 with 1 Axes>"
      ]
     },
     "metadata": {},
     "output_type": "display_data"
    }
   ],
   "source": [
    "# Для наглядности построим столбчатую диаграмму для выбранных вакансий:\n",
    "fig = plt.figure(figsize=(20, 8))\n",
    "barplot = sns.barplot(\n",
    "    data=df_7_1,\n",
    "    x='name',\n",
    "    y='cnt',\n",
    "\n",
    ")\n",
    "barplot.set_title('Популярные вакансии в IT');"
   ]
  },
  {
   "cell_type": "markdown",
   "id": "f2116ab5",
   "metadata": {},
   "source": [
    "Из общего списка лидер по вакансиям - *системный администратор*, число вакансий в 4 раза больше пятой вакансии в списке (*системный аналитик*) и в 3,5 раза больше всех вакансий для DS. Пользуются спросом *програмисты 1С*-второе место. \n",
    "Данные весьма приближенные, т.к. мы не делали укрупнения по направлениям профессий как для DS, возможно втречаются повторения, как с программистами 1С (если смотреть первые 10 позиций, то программсты 1С появятся еще на 8 месте), но в любом случае можно сделать вывод, что направление DS не самое популярное в сфере IT, хотя и достаточно высоко оплачиваемо."
   ]
  },
  {
   "cell_type": "markdown",
   "id": "3363be73",
   "metadata": {},
   "source": [
    "Теперь посмотрим на средние заработные платы для первых пяти популярных вакансий, для которых эти заработные платы объявлены:"
   ]
  },
  {
   "cell_type": "code",
   "execution_count": 182,
   "id": "5b66fd1b",
   "metadata": {},
   "outputs": [
    {
     "name": "stderr",
     "output_type": "stream",
     "text": [
      "C:\\Users\\molde\\AppData\\Local\\Temp\\ipykernel_20364\\793180862.py:11: UserWarning: pandas only supports SQLAlchemy connectable (engine/connection) or database string URI or sqlite3 DBAPI2 connection. Other DBAPI2 objects are not tested. Please consider using SQLAlchemy.\n",
      "  df_7_2 = pd.read_sql_query(query_7_2, connection)\n"
     ]
    },
    {
     "data": {
      "text/html": [
       "<div>\n",
       "<style scoped>\n",
       "    .dataframe tbody tr th:only-of-type {\n",
       "        vertical-align: middle;\n",
       "    }\n",
       "\n",
       "    .dataframe tbody tr th {\n",
       "        vertical-align: top;\n",
       "    }\n",
       "\n",
       "    .dataframe thead th {\n",
       "        text-align: right;\n",
       "    }\n",
       "</style>\n",
       "<table border=\"1\" class=\"dataframe\">\n",
       "  <thead>\n",
       "    <tr style=\"text-align: right;\">\n",
       "      <th></th>\n",
       "      <th>name</th>\n",
       "      <th>average_salary</th>\n",
       "      <th>cnt</th>\n",
       "    </tr>\n",
       "  </thead>\n",
       "  <tbody>\n",
       "    <tr>\n",
       "      <th>0</th>\n",
       "      <td>Системный администратор</td>\n",
       "      <td>50115.0</td>\n",
       "      <td>1287</td>\n",
       "    </tr>\n",
       "    <tr>\n",
       "      <th>1</th>\n",
       "      <td>Программист 1С</td>\n",
       "      <td>110189.0</td>\n",
       "      <td>729</td>\n",
       "    </tr>\n",
       "    <tr>\n",
       "      <th>2</th>\n",
       "      <td>Специалист технической поддержки</td>\n",
       "      <td>43211.0</td>\n",
       "      <td>335</td>\n",
       "    </tr>\n",
       "    <tr>\n",
       "      <th>3</th>\n",
       "      <td>Инженер-программист</td>\n",
       "      <td>50478.0</td>\n",
       "      <td>279</td>\n",
       "    </tr>\n",
       "    <tr>\n",
       "      <th>4</th>\n",
       "      <td>Программист 1C</td>\n",
       "      <td>96906.0</td>\n",
       "      <td>228</td>\n",
       "    </tr>\n",
       "  </tbody>\n",
       "</table>\n",
       "</div>"
      ],
      "text/plain": [
       "                               name  average_salary   cnt\n",
       "0           Системный администратор         50115.0  1287\n",
       "1                    Программист 1С        110189.0   729\n",
       "2  Специалист технической поддержки         43211.0   335\n",
       "3               Инженер-программист         50478.0   279\n",
       "4                    Программист 1C         96906.0   228"
      ]
     },
     "execution_count": 182,
     "metadata": {},
     "output_type": "execute_result"
    }
   ],
   "source": [
    "query_7_2 = f'''select\n",
    "                  v.name,\n",
    "                  round(avg((coalesce(v.salary_from, v.salary_to)+coalesce(v.salary_to, v.salary_from))/2)) average_salary,\n",
    "                  count(v.id) cnt\n",
    "                from vacancies v join areas a on v.area_id=a.id\n",
    "                where (salary_from  is not null or salary_to is not null) \n",
    "                group by v.name\n",
    "                order by cnt desc\n",
    "                limit 5'''\n",
    "\n",
    "df_7_2 = pd.read_sql_query(query_7_2, connection)\n",
    "df_7_2"
   ]
  },
  {
   "cell_type": "markdown",
   "id": "741a3335",
   "metadata": {},
   "source": [
    "И посмотрим на уровень средних зарплат для пяти популярных вакансий в городах миллионниках:"
   ]
  },
  {
   "cell_type": "code",
   "execution_count": 183,
   "id": "74243029",
   "metadata": {},
   "outputs": [
    {
     "name": "stderr",
     "output_type": "stream",
     "text": [
      "C:\\Users\\molde\\AppData\\Local\\Temp\\ipykernel_20364\\761600256.py:11: UserWarning: pandas only supports SQLAlchemy connectable (engine/connection) or database string URI or sqlite3 DBAPI2 connection. Other DBAPI2 objects are not tested. Please consider using SQLAlchemy.\n",
      "  df_7_3 = pd.read_sql_query(query_7_3, connection)\n"
     ]
    },
    {
     "data": {
      "text/html": [
       "<div>\n",
       "<style scoped>\n",
       "    .dataframe tbody tr th:only-of-type {\n",
       "        vertical-align: middle;\n",
       "    }\n",
       "\n",
       "    .dataframe tbody tr th {\n",
       "        vertical-align: top;\n",
       "    }\n",
       "\n",
       "    .dataframe thead th {\n",
       "        text-align: right;\n",
       "    }\n",
       "</style>\n",
       "<table border=\"1\" class=\"dataframe\">\n",
       "  <thead>\n",
       "    <tr style=\"text-align: right;\">\n",
       "      <th></th>\n",
       "      <th>name</th>\n",
       "      <th>average_salary</th>\n",
       "      <th>cnt</th>\n",
       "    </tr>\n",
       "  </thead>\n",
       "  <tbody>\n",
       "    <tr>\n",
       "      <th>0</th>\n",
       "      <td>Системный администратор</td>\n",
       "      <td>55279.0</td>\n",
       "      <td>443</td>\n",
       "    </tr>\n",
       "    <tr>\n",
       "      <th>1</th>\n",
       "      <td>Программист 1С</td>\n",
       "      <td>117681.0</td>\n",
       "      <td>289</td>\n",
       "    </tr>\n",
       "    <tr>\n",
       "      <th>2</th>\n",
       "      <td>Специалист технической поддержки</td>\n",
       "      <td>47474.0</td>\n",
       "      <td>156</td>\n",
       "    </tr>\n",
       "    <tr>\n",
       "      <th>3</th>\n",
       "      <td>Бизнес-аналитик</td>\n",
       "      <td>106504.0</td>\n",
       "      <td>101</td>\n",
       "    </tr>\n",
       "    <tr>\n",
       "      <th>4</th>\n",
       "      <td>Аналитик</td>\n",
       "      <td>74970.0</td>\n",
       "      <td>97</td>\n",
       "    </tr>\n",
       "  </tbody>\n",
       "</table>\n",
       "</div>"
      ],
      "text/plain": [
       "                               name  average_salary  cnt\n",
       "0           Системный администратор         55279.0  443\n",
       "1                    Программист 1С        117681.0  289\n",
       "2  Специалист технической поддержки         47474.0  156\n",
       "3                   Бизнес-аналитик        106504.0  101\n",
       "4                          Аналитик         74970.0   97"
      ]
     },
     "execution_count": 183,
     "metadata": {},
     "output_type": "execute_result"
    }
   ],
   "source": [
    "query_7_3 = f'''select\n",
    "                  v.name,\n",
    "                  round(avg((coalesce(v.salary_from, v.salary_to)+coalesce(v.salary_to, v.salary_from))/2)) average_salary,\n",
    "                  count(v.id) cnt\n",
    "                from vacancies v join areas a on v.area_id=a.id\n",
    "                where (salary_from  is not null or salary_to is not null)\n",
    "                      and a.name in {cit}\n",
    "                group by v.name\n",
    "                order by cnt desc\n",
    "                limit 5'''\n",
    "df_7_3 = pd.read_sql_query(query_7_3, connection)\n",
    "df_7_3"
   ]
  },
  {
   "cell_type": "code",
   "execution_count": 184,
   "id": "5718bb65",
   "metadata": {},
   "outputs": [
    {
     "name": "stderr",
     "output_type": "stream",
     "text": [
      "C:\\Users\\molde\\AppData\\Local\\Temp\\ipykernel_20364\\2726059486.py:12: UserWarning: pandas only supports SQLAlchemy connectable (engine/connection) or database string URI or sqlite3 DBAPI2 connection. Other DBAPI2 objects are not tested. Please consider using SQLAlchemy.\n",
      "  df_7_4 = pd.read_sql_query(query_7_4, connection)\n"
     ]
    },
    {
     "data": {
      "text/html": [
       "<div>\n",
       "<style scoped>\n",
       "    .dataframe tbody tr th:only-of-type {\n",
       "        vertical-align: middle;\n",
       "    }\n",
       "\n",
       "    .dataframe tbody tr th {\n",
       "        vertical-align: top;\n",
       "    }\n",
       "\n",
       "    .dataframe thead th {\n",
       "        text-align: right;\n",
       "    }\n",
       "</style>\n",
       "<table border=\"1\" class=\"dataframe\">\n",
       "  <thead>\n",
       "    <tr style=\"text-align: right;\">\n",
       "      <th></th>\n",
       "      <th>name</th>\n",
       "      <th>average_salary</th>\n",
       "      <th>cnt</th>\n",
       "    </tr>\n",
       "  </thead>\n",
       "  <tbody>\n",
       "    <tr>\n",
       "      <th>0</th>\n",
       "      <td>Бизнес-аналитик</td>\n",
       "      <td>135827.0</td>\n",
       "      <td>40</td>\n",
       "    </tr>\n",
       "    <tr>\n",
       "      <th>1</th>\n",
       "      <td>Системный администратор</td>\n",
       "      <td>97618.0</td>\n",
       "      <td>38</td>\n",
       "    </tr>\n",
       "    <tr>\n",
       "      <th>2</th>\n",
       "      <td>Аналитик</td>\n",
       "      <td>101973.0</td>\n",
       "      <td>23</td>\n",
       "    </tr>\n",
       "    <tr>\n",
       "      <th>3</th>\n",
       "      <td>Специалист технической поддержки</td>\n",
       "      <td>76993.0</td>\n",
       "      <td>21</td>\n",
       "    </tr>\n",
       "    <tr>\n",
       "      <th>4</th>\n",
       "      <td>Системный аналитик</td>\n",
       "      <td>201281.0</td>\n",
       "      <td>16</td>\n",
       "    </tr>\n",
       "  </tbody>\n",
       "</table>\n",
       "</div>"
      ],
      "text/plain": [
       "                               name  average_salary  cnt\n",
       "0                   Бизнес-аналитик        135827.0   40\n",
       "1           Системный администратор         97618.0   38\n",
       "2                          Аналитик        101973.0   23\n",
       "3  Специалист технической поддержки         76993.0   21\n",
       "4                Системный аналитик        201281.0   16"
      ]
     },
     "execution_count": 184,
     "metadata": {},
     "output_type": "execute_result"
    }
   ],
   "source": [
    "# для Москвы пятерка популярных вакансий выглятит так:\n",
    "query_7_4 = f'''select\n",
    "                  v.name,\n",
    "                  round(avg((coalesce(v.salary_from, v.salary_to)+coalesce(v.salary_to, v.salary_from))/2)) average_salary,\n",
    "                  count(v.id) cnt\n",
    "                from vacancies v join areas a on v.area_id=a.id\n",
    "                where (salary_from  is not null or salary_to is not null)\n",
    "                      and a.name in ('Москва')\n",
    "                group by v.name\n",
    "                order by cnt desc\n",
    "                limit 5'''\n",
    "df_7_4 = pd.read_sql_query(query_7_4, connection)\n",
    "df_7_4"
   ]
  },
  {
   "cell_type": "code",
   "execution_count": 185,
   "id": "58f6a069",
   "metadata": {},
   "outputs": [
    {
     "data": {
      "image/png": "[encoded data removed]",
      "text/plain": [
       "<Figure size 2000x1200 with 3 Axes>"
      ]
     },
     "metadata": {},
     "output_type": "display_data"
    }
   ],
   "source": [
    "# построим диаграммы лдля наших таблиц:\n",
    "fig, axes = plt.subplots(nrows=3, ncols=1, figsize=(20, 12))\n",
    "\n",
    "axes[0].bar(x=df_7_2.name, \n",
    "            height=df_7_2.average_salary,\n",
    "            label='Заработная плата')\n",
    "axes[0].set_title('Средняя заработная плата для пяти популярных вакансий для IT')\n",
    "axes[0].xaxis.set_tick_params(rotation=0)\n",
    "\n",
    "\n",
    "axes[1].bar(x=df_7_3.name, \n",
    "            height=df_7_3.average_salary,\n",
    "            label='Заработная плата', color='green')\n",
    "axes[1].set_title('Средняя заработная плата для пяти популярных вакансий для IT в городах -миллионниках ')\n",
    "axes[1].xaxis.set_tick_params(rotation=0)\n",
    "\n",
    "axes[2].bar(x=df_7_4.name, \n",
    "            height=df_7_4.average_salary,\n",
    "            label='Заработная плата', color='red')\n",
    "axes[2].set_title('Средняя заработная плата для пяти популярных вакансий для IT в Москве')\n",
    "axes[2].xaxis.set_tick_params(rotation=0)"
   ]
  },
  {
   "cell_type": "markdown",
   "id": "8b4886d8",
   "metadata": {},
   "source": [
    "В первой диаграмме нам встретился дважды программист 1С, причем надо отметить, что уровень зарплаты для них достаточно высок по сравнению с остальными (почти в 2 раза выше, по сравнению с остальными вакансиями). Это говорит о востребованности данного направления или изначально язык 1С не слишком популярен, из-за чего специалистов на рынке не так много.\n",
    "\n",
    "Если сравнивать пятерку популярных вакансий в городах-миллиониках с общей таблицей, то первые три популярные вакансии совпадают, причем зарплаты примерно на том же уровне и самый высокооплачиваемый- это программист 1С.Само количество вакансий отличается: в первой таблице почти в 2,5 раза больше по всем пяти позициям, чем во второй.\n",
    "\n",
    "По Москве пятерка популярных вакансий с озвученными зарплатами отличается от двух предыдущих таблиц. Во-первых, количество вакансий на порядок меньше, причем если смотреть количество популярных вакансий в столице для первой позиции (*бизнес-аналитик*) без условий по зарплате их количество увеличится до 173 (больше в 4 раза). \n",
    "Во-вторых, уровень заработных плат в Москве выше, чем в других регионах. Например, специалист технической поддержки (4 место)  или системный администратор (2 место) могут рассчитывать на доход почти в 2 раза превышающий в среднем по регионам. \n",
    "Самые востребованные и высокооплачиваемые специалисты- это  *бизнес-аналитики*, по зарплате их опережают только *системные аналитики* (средний уровень предлагаемого дохода от 200 тыс. руб.), но количество вакансий не велико по сравнению с первой позицией.\n",
    "\n",
    "Все выше перечисленное говорит о привлекательности Москвы как места работы для IT-специалиста, особенно если его профессиональный уровень достаточно высок."
   ]
  },
  {
   "cell_type": "markdown",
   "id": "52297ac2",
   "metadata": {},
   "source": [
    "Это небольшое исследование показывает, как много информации еще не проанализировано. Можно исследовать какие навыки требуются самым высокооплачиваемым и востребованным профессиям или проанализировать работодателей по видам вакансий в разных регионах, например, по Яндексу или Ростелекому. Но для начала следует укрупнить вакансии по направлениям, чтобы не встречались повторения, как с программистами 1С."
   ]
  },
  {
   "cell_type": "markdown",
   "id": "d4917586",
   "metadata": {},
   "source": [
    "### Подведем итог исследования, обобщите выводы по исследованию:\n",
    "\n",
    "Общее количество вакансий в сфере IT достаточно велико, почти 50 тыс. представлено для исследования.\n",
    "\n",
    "Только 64% из общего числа работодателей разместили свои объявления в исследуемых данных.\n",
    "\n",
    "Есть крупные работодатели, которые размещают по несколько вакансий более, чем в 100 разных регионах (безусловный лидер - Яндекс). \n",
    "\n",
    "Самые популярные места для работы -столичные города: Москва и Санкт-Петербург.\n",
    "\n",
    "Значительное большинство работодателей предлагают полную занятость и полный рабочий день. Большинству работодателей (больше 50% от всех вакансий) требуются специалисты с опытом работы от одного до трех лет.  \n",
    "\n",
    "Только в половине представленных вакансий встречаются предложения по заработной плате, причем чем выше должность , тем меньше информации.\n",
    "\n",
    "Направление DS - не самое популярное, но достаточно высокооплачиваемое, даже для специалистов с минимальным опытом работы. Одними из ключевых навыков для специалиста в DS является знание языка `Python` и `SQL`.\n"
   ]
  },
  {
   "cell_type": "markdown",
   "id": "01c30a08",
   "metadata": {},
   "source": [
    "### <center>*Спасибо за внимание!*</center>"
   ]
  }
 ],
 "metadata": {
  "colab": {
   "collapsed_sections": [
    "8d62a9f3-f64e-4fe7-bdac-c4dffa16155e"
   ],
   "provenance": []
  },
  "kernelspec": {
   "display_name": "Python 3",
   "language": "python",
   "name": "python3"
  },
  "language_info": {
   "codemirror_mode": {
    "name": "ipython",
    "version": 3
   },
   "file_extension": ".py",
   "mimetype": "text/x-python",
   "name": "python",
   "nbconvert_exporter": "python",
   "pygments_lexer": "ipython3",
   "version": "3.11.9"
  }
 },
 "nbformat": 4,
 "nbformat_minor": 5
}
