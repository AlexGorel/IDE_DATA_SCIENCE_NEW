{
 "cells": [
  {
   "cell_type": "markdown",
   "metadata": {},
   "source": [
    "PYTHON-11. Базовые приёмы работы с данными в Pandas"
   ]
  },
  {
   "cell_type": "markdown",
   "metadata": {},
   "source": [
    "1. Введение"
   ]
  },
  {
   "cell_type": "code",
   "execution_count": null,
   "metadata": {},
   "outputs": [],
   "source": [
    "import pandas as pd\n",
    "melb_data = pd.read_csv('data_11/melb_data_ps.csv', sep=',')\n",
    "melb_data.head()\n"
   ]
  },
  {
   "cell_type": "markdown",
   "metadata": {},
   "source": [
    "2. Базовые операции со столбцами DataFrame"
   ]
  },
  {
   "cell_type": "code",
   "execution_count": null,
   "metadata": {},
   "outputs": [],
   "source": [
    "import pandas as pd\n",
    "melb_data = pd.read_csv('data_11/melb_data_ps.csv', sep=',')\n",
    "melb_df = melb_data.copy()\n",
    "#melb_df = melb_df.drop(['index', 'Coordinates'], axis=1)# Удалим столбцы index и Coordinates\n",
    "melb_df.drop(['index','Coordinates'],axis=1,inplace=True) # Альтернативный вариант\n",
    "#melb_df.head()\n",
    "total_rooms = melb_df['Rooms'] + melb_df['Bedroom'] + melb_df['Bathroom'] #создадим переменную total_rooms, в которой будем хранить общее количество комнат в здании. Для этого выполним сложение столбцов с количеством комнат, ванн и спален\n",
    "#display(total_rooms)\n",
    "melb_df['MeanRoomsSquare'] = melb_df['BuildingArea'] / total_rooms #введём признак MeanRoomsSquare, который соответствует средней площади одной комнаты для каждого объекта. Для этого разделим площадь здания на полученное ранее общее количество комнат\n",
    "#display(melb_df['MeanRoomsSquare'])\n",
    "\n",
    "diff_area = melb_df['BuildingArea'] - melb_df['Landsize'] #AreaRatio, коэффициент соотношения площади здания (BuildingArea) и площади участка (Landsize). Для этого разницу двух площадей поделим на их сумму\n",
    "sum_area = melb_df['BuildingArea'] + melb_df['Landsize']\n",
    "melb_df['AreaRatio'] = diff_area/sum_area\n",
    "display(melb_df['AreaRatio'])\n"
   ]
  },
  {
   "cell_type": "markdown",
   "metadata": {},
   "source": [
    "Задание 2.3 (External resource)"
   ]
  },
  {
   "cell_type": "code",
   "execution_count": 10,
   "metadata": {},
   "outputs": [],
   "source": [
    "import pandas as pd\n",
    "customer_df = pd.DataFrame({\n",
    "            'number': [0, 1, 2, 3, 4],\n",
    "            'cust_id': [128, 1201, 9832, 4392, 7472],\n",
    "            'cust_age': [13, 21, 19, 21, 60],\n",
    "            'cust_sale': [0, 0, 0.2, 0.15, 0.3],\n",
    "            'cust_year_birth': [2008, 2000, 2002, 2000, 1961],\n",
    "            'cust_order': [1400, 14142, 900, 1240, 8430]\n",
    "        })\n",
    "def delete_columns(df, col=[]):\n",
    "    for cc in col:\n",
    "        if cc not in df.columns:\n",
    "            return None\n",
    "    return df.drop(col, axis=1)"
   ]
  },
  {
   "cell_type": "markdown",
   "metadata": {},
   "source": [
    "Задание 2.4"
   ]
  },
  {
   "cell_type": "code",
   "execution_count": 14,
   "metadata": {},
   "outputs": [
    {
     "name": "stdout",
     "output_type": "stream",
     "text": [
      "84.93\n"
     ]
    }
   ],
   "source": [
    "countries_df = pd.DataFrame({\n",
    "    'country': ['Англия', 'Канада', 'США', 'Россия', 'Украина', 'Беларусь', 'Казахстан'],\n",
    "    'population': [56.29, 38.05, 322.28, 146.24, 45.5, 9.5, 17.04],\n",
    "    'square': [133396, 9984670, 9826630, 17125191, 603628, 207600, 2724902]\n",
    "})\n",
    "countries_df['density'] = countries_df['population']*1000000 / countries_df['square']\n",
    "print(round(countries_df['density'].mean(), 2))"
   ]
  },
  {
   "cell_type": "markdown",
   "metadata": {},
   "source": [
    "3. Работа с датами в DataFrame"
   ]
  },
  {
   "cell_type": "code",
   "execution_count": 109,
   "metadata": {},
   "outputs": [
    {
     "data": {
      "text/plain": [
       "12822"
      ]
     },
     "metadata": {},
     "output_type": "display_data"
    }
   ],
   "source": [
    "#display(melb_df['Date'])\n",
    "#display(melb_df.loc[2,'Date'])\n",
    "melb_df['Date'] = pd.to_datetime(melb_df['Date'], dayfirst=True)\n",
    "#display(melb_df['Date'])\n",
    "years_sold = melb_df['Date'].dt.year\n",
    "#print(years_sold)\n",
    "#print('Min year sold:', years_sold.min())\n",
    "#print('Max year sold:', years_sold.max())\n",
    "#print('Mode year sold:', years_sold.mode()[0])\n",
    "melb_df['MonthSale'] = melb_df['Date'].dt.month\n",
    "#display(melb_df['MonthSale'].value_counts(normalize=True))\n",
    "delta_days = melb_df['Date'] - pd.to_datetime('2016-01-01') \n",
    "#display(delta_days)\n",
    "#display(delta_days.dt.days)\n",
    "melb_df['AgeBuilding'] = melb_df['Date'].dt.year - melb_df['YearBuilt']\n",
    "#display(melb_df['AgeBuilding'])\n",
    "melb_df = melb_df.drop('YearBuilt', axis=1)\n",
    "\n",
    "melb_df['WeekdaySale'] = melb_df['Date'].dt.dayofweek\n",
    "weekend_count=melb_df[     (melb_df['WeekdaySale']==5) |  (melb_df['WeekdaySale']==6)      ].shape[0] #Задание 3.3\n",
    "display(weekend_count)\n"
   ]
  },
  {
   "cell_type": "code",
   "execution_count": 59,
   "metadata": {},
   "outputs": [
    {
     "name": "stdout",
     "output_type": "stream",
     "text": [
      "68.92932862190813\n"
     ]
    }
   ],
   "source": [
    "import pandas as pd\n",
    "ufo_data = pd.read_csv('https://raw.githubusercontent.com/justmarkham/pandas-videos/master/data/ufo.csv', sep=',')\n",
    "ufo_df = ufo_data.copy()\n",
    "#display(ufo_df.head())\n",
    "#display(ufo_df.shape)\n",
    "#display(ufo_df.info)\n",
    "#display(ufo_df.describe)\n",
    "\n",
    "ufo_df['Time'] = pd.to_datetime(ufo_df['Time'])\n",
    "ufo_df['Year'] = ufo_df['Time'].dt.year\n",
    "ufo_df['Year'].mode()[0] #Задание 3.4 \n",
    "\n",
    "ufo_df['Date'] = ufo_df['Time'].dt.date\n",
    "print(ufo_df [ufo_df['State']=='NV']['Date'].diff().dt.days.mean()) #Задание 3.5\n"
   ]
  },
  {
   "cell_type": "markdown",
   "metadata": {},
   "source": [
    "4. Создание и преобразование столбцов с помощью функций"
   ]
  },
  {
   "cell_type": "code",
   "execution_count": 108,
   "metadata": {},
   "outputs": [
    {
     "name": "stdout",
     "output_type": "stream",
     "text": [
      "56\n"
     ]
    },
    {
     "data": {
      "text/plain": [
       "Address\n",
       "St           8012\n",
       "Rd           2825\n",
       "Ct            612\n",
       "Dr            447\n",
       "Av            321\n",
       "Gr            311\n",
       "Pde           211\n",
       "Pl            169\n",
       "Cr            152\n",
       "Cl            100\n",
       "La             67\n",
       "Bvd            53\n",
       "Tce            47\n",
       "Wy             40\n",
       "Avenue         40\n",
       "Cct            25\n",
       "Hwy            24\n",
       "Parade         15\n",
       "Boulevard      13\n",
       "Sq             11\n",
       "Crescent        9\n",
       "Cir             7\n",
       "Strand          7\n",
       "Esplanade       6\n",
       "Grove           5\n",
       "Gdns            4\n",
       "Grn             4\n",
       "Fairway         4\n",
       "Mews            4\n",
       "Crossway        3\n",
       "Righi           3\n",
       "Victoria        2\n",
       "Ridge           2\n",
       "Crofts          2\n",
       "Esp             2\n",
       "Glade           1\n",
       "Gra             1\n",
       "Ave             1\n",
       "Woodland        1\n",
       "Outlook         1\n",
       "Hts             1\n",
       "Highway         1\n",
       "Athol           1\n",
       "Summit          1\n",
       "Grand           1\n",
       "Res             1\n",
       "Nook            1\n",
       "Eyrie           1\n",
       "Dell            1\n",
       "East            1\n",
       "Loop            1\n",
       "Grange          1\n",
       "Terrace         1\n",
       "Cove            1\n",
       "Qy              1\n",
       "Corso           1\n",
       "Name: count, dtype: int64"
      ]
     },
     "metadata": {},
     "output_type": "display_data"
    },
    {
     "name": "stdout",
     "output_type": "stream",
     "text": [
      "Index(['St', 'Rd', 'Ct', 'Dr', 'Av', 'Gr', 'Pde', 'Pl', 'Cr', 'Cl'], dtype='object', name='Address')\n"
     ]
    }
   ],
   "source": [
    "#print(melb_df['Address'].nunique())\n",
    "#print(melb_df['Address'].shape)\n",
    "#print(melb_df['Address'].loc[177])\n",
    "#print(melb_df['Address'].loc[1812])\n",
    "#print(melb_df['Address'].loc[9001])\n",
    "# На вход данной функции поступает строка с адресом.\n",
    "def get_street_type(address):\n",
    "# Создаём список географических пометок exclude_list.\n",
    "    exclude_list = ['N', 'S', 'W', 'E']\n",
    "# Метод split() разбивает строку на слова по пробелу.\n",
    "# В результате получаем список слов в строке и заносим его в переменную address_list.\n",
    "    address_list = address.split(' ')\n",
    "# Обрезаем список, оставляя в нём только последний элемент,\n",
    "# потенциальный подтип улицы, и заносим в переменную street_type.\n",
    "    street_type = address_list[-1]\n",
    "# Делаем проверку на то, что полученный подтип является географической пометкой.\n",
    "# Для этого проверяем его на наличие в списке exclude_list.\n",
    "    if street_type in exclude_list:\n",
    "# Если переменная street_type является географической пометкой,\n",
    "# переопределяем её на второй элемент с конца списка address_list.\n",
    "        street_type = address_list[-2]\n",
    "# Возвращаем переменную street_type, в которой хранится подтип улицы.\n",
    "    return street_type\n",
    "street_types = melb_df['Address'].apply(get_street_type)\n",
    "#display(street_types)\n",
    "print(street_types.nunique())\n",
    "display(street_types.value_counts())\n",
    "popular_stypes =street_types.value_counts().nlargest(10).index\n",
    "print(popular_stypes)\n",
    "melb_df['StreetType'] = street_types.apply(lambda x: x if x in popular_stypes else 'other')\n",
    "#display(melb_df['StreetType'])\n",
    "#print(melb_df['StreetType'].nunique())#Посмотрим на результирующее число уникальных подтипов:\n",
    "# 11"
   ]
  },
  {
   "cell_type": "markdown",
   "metadata": {},
   "source": [
    "ЗАДАНИЕ 4.2"
   ]
  },
  {
   "cell_type": "code",
   "execution_count": 106,
   "metadata": {},
   "outputs": [
    {
     "data": {
      "text/plain": [
       "12822"
      ]
     },
     "metadata": {},
     "output_type": "display_data"
    },
    {
     "name": "stdout",
     "output_type": "stream",
     "text": [
      "1081198.64\n"
     ]
    }
   ],
   "source": [
    "#display(melb_df['Date'])\n",
    "#display(melb_df.loc[2,'Date'])\n",
    "melb_df['Date'] = pd.to_datetime(melb_df['Date'], dayfirst=True)\n",
    "#display(melb_df['Date'])\n",
    "years_sold = melb_df['Date'].dt.year\n",
    "#print(years_sold)\n",
    "#print('Min year sold:', years_sold.min())\n",
    "#print('Max year sold:', years_sold.max())\n",
    "#print('Mode year sold:', years_sold.mode()[0])\n",
    "melb_df['MonthSale'] = melb_df['Date'].dt.month\n",
    "#display(melb_df['MonthSale'].value_counts(normalize=True))\n",
    "delta_days = melb_df['Date'] - pd.to_datetime('2016-01-01') \n",
    "#display(delta_days)\n",
    "#display(delta_days.dt.days)\n",
    "melb_df['AgeBuilding'] = melb_df['Date'].dt.year - melb_df['YearBuilt']\n",
    "#display(melb_df['AgeBuilding'])\n",
    "melb_df = melb_df.drop('YearBuilt', axis=1)\n",
    "\n",
    "melb_df['WeekdaySale'] = melb_df['Date'].dt.dayofweek\n",
    "weekend_count=melb_df[     (melb_df['WeekdaySale']==5) |  (melb_df['WeekdaySale']==6)      ].shape[0] #Задание 3.3\n",
    "display(weekend_count)\n",
    "def get_weekend(weekday):\n",
    "    if weekday == 5 or weekday == 6:\n",
    "        return 1\n",
    "    else: \n",
    "        return 0\n",
    "melb_df['Weekend'] = melb_df['WeekdaySale'].apply(get_weekend)\n",
    "print(round(melb_df[melb_df['Weekend']==1]['Price'].mean(), 2))"
   ]
  },
  {
   "cell_type": "markdown",
   "metadata": {},
   "source": [
    "Задание 4.3"
   ]
  },
  {
   "cell_type": "code",
   "execution_count": 105,
   "metadata": {},
   "outputs": [
    {
     "name": "stdout",
     "output_type": "stream",
     "text": [
      "(13580,)\n",
      "50\n",
      "170000.0\n",
      "131000.0\n",
      "1.3\n",
      "1.3\n"
     ]
    }
   ],
   "source": [
    "popular_SellerG =melb_df['SellerG'].value_counts().nlargest(49).index\n",
    "#print(popular_SellerG)\n",
    "melb_df['SellerG'] = melb_df['SellerG'].apply(lambda x: x if x in popular_SellerG else 'other')\n",
    "print(melb_df['SellerG'].shape)\n",
    "print(melb_df['SellerG'].nunique())\n",
    "\n",
    "\n",
    "mask_11=melb_df[melb_df['SellerG']=='Nelson']['Price'].min()\n",
    "mask_22=melb_df[melb_df['SellerG']=='other']['Price'].min()\n",
    "\n",
    "print (mask_11)\n",
    "print (mask_22)\n",
    "print(round(mask_11/mask_22,2))\n",
    "\n",
    "print(round(melb_df[melb_df['SellerG']=='Nelson']['Price'].min()/melb_df[melb_df['SellerG']=='other']['Price'].min(),2))\n"
   ]
  },
  {
   "cell_type": "markdown",
   "metadata": {},
   "source": [
    "Задание 4.4 (External resource)"
   ]
  },
  {
   "cell_type": "code",
   "execution_count": 101,
   "metadata": {},
   "outputs": [],
   "source": [
    "def get_experience(arg):\n",
    "    month_key_words = ['месяц', 'месяцев', 'месяца']\n",
    "    year_key_words = ['год', 'лет', 'года']\n",
    "    args_splited = arg.split(' ')\n",
    "    month = 0\n",
    "    year = 0\n",
    "    for i in range(len(args_splited)):\n",
    "        if args_splited[i] in month_key_words:\n",
    "            month = args_splited[i-1]\n",
    "        if args_splited[i] in year_key_words:\n",
    "            year = args_splited[i-1]\n",
    "    return int(year)*12 + int(month)"
   ]
  },
  {
   "cell_type": "markdown",
   "metadata": {},
   "source": [
    "5. Тип данных Category"
   ]
  },
  {
   "cell_type": "code",
   "execution_count": 119,
   "metadata": {},
   "outputs": [
    {
     "data": {
      "text/plain": [
       "0     unit\n",
       "1    house\n",
       "2      NaN\n",
       "3      NaN\n",
       "4    house\n",
       "dtype: category\n",
       "Categories (3, object): ['house', 'townhouse', 'unit']"
      ]
     },
     "metadata": {},
     "output_type": "display_data"
    },
    {
     "data": {
      "text/plain": [
       "0     unit\n",
       "1    house\n",
       "2     flat\n",
       "3     flat\n",
       "4    house\n",
       "dtype: category\n",
       "Categories (4, object): ['house', 'townhouse', 'unit', 'flat']"
      ]
     },
     "metadata": {},
     "output_type": "display_data"
    }
   ],
   "source": [
    "# создаём пустой список\n",
    "unique_list = []\n",
    "# пробегаемся по именам столбцов в таблице\n",
    "for col in melb_df.columns:\n",
    "    # создаём кортеж (имя столбца, число уникальных значений)\n",
    "    item = (col, melb_df[col].nunique(),melb_df[col].dtypes) \n",
    "    # добавляем кортеж в список\n",
    "    unique_list.append(item) \n",
    "# создаём вспомогательную таблицу и сортируем её\n",
    "unique_counts = pd.DataFrame(\n",
    "    unique_list,\n",
    "    columns=['Column_Name', 'Num_Unique', 'Type']\n",
    ").sort_values(by='Num_Unique',  ignore_index=True)\n",
    "# выводим её на экран\n",
    "#display(unique_counts)\n",
    "#display(melb_df.info())\n",
    "cols_to_exclude = ['Date', 'Rooms', 'Bedroom', 'Bathroom', 'Car'] # список столбцов, которые мы не берём во внимание\n",
    "max_unique_count = 150 # задаём максимальное число уникальных категорий\n",
    "for col in melb_df.columns: # цикл по именам столбцов\n",
    "    if melb_df[col].nunique() < max_unique_count and col not in cols_to_exclude: # проверяем условие\n",
    "        melb_df[col] = melb_df[col].astype('category') # преобразуем тип столбца\n",
    "#display(melb_df.info())\n",
    "#print(melb_df['Regionname'].cat.categories)\n",
    "#display(melb_df['Regionname'].cat.codes)\n",
    "melb_df['Type'] = melb_df['Type'].cat.rename_categories({\n",
    "    'u': 'unit',\n",
    "    't': 'townhouse',\n",
    "    'h': 'house'\n",
    "})\n",
    "#display(melb_df['Type'])\n",
    "new_houses_types = pd.Series(['unit', 'house', 'flat', 'flat', 'house'])\n",
    "new_houses_types = new_houses_types.astype(melb_df['Type'].dtype)\n",
    "display(new_houses_types)\n",
    "melb_df['Type'] = melb_df['Type'].cat.add_categories('flat')\n",
    "new_houses_types = pd.Series(['unit', 'house', 'flat', 'flat', 'house'])\n",
    "new_houses_types = new_houses_types.astype(melb_df['Type'].dtype)\n",
    "display(new_houses_types)"
   ]
  },
  {
   "cell_type": "markdown",
   "metadata": {},
   "source": [
    "6.закрепление знаний"
   ]
  },
  {
   "cell_type": "code",
   "execution_count": 203,
   "metadata": {},
   "outputs": [
    {
     "name": "stdout",
     "output_type": "stream",
     "text": [
      "9\n"
     ]
    }
   ],
   "source": [
    "import pandas as pd\n",
    "citibike_tripdata = pd.read_csv('data_11/citibike-tripdata.csv', sep=',')\n",
    "citibike_tripdata.head()\n",
    "#display(citibike_tripdata.shape)\n",
    "#display(citibike_tripdata['usertype'].mode()[0])\n",
    "#display(citibike_tripdata.info()) #Задание 6.1 Задание 6.2\n",
    "#display(citibike_tripdata.describe())\n",
    "#display(citibike_tripdata['start station id'].mode()[0])#Задание 6.3\n",
    "#display(citibike_tripdata['bikeid'].mode()[0])#Задание 6.4\n",
    "\n",
    "#display(citibike_tripdata['usertype'].mode()[0])#Задание 6.5\n",
    "#count_mode_user = citibike_tripdata[citibike_tripdata['usertype'] == citibike_tripdata['usertype'].mode()[0]].shape[0]\n",
    "#print(round(count_mode_user / citibike_tripdata.shape[0], 2))\n",
    "\n",
    "#male_count = citibike_tripdata[citibike_tripdata['gender'] == 1].shape[0]\n",
    "#female_count = citibike_tripdata[citibike_tripdata['gender'] == 0].shape[0]\n",
    "#display(male_count)\n",
    "#display(female_count)\n",
    "#print(max([male_count, female_count])) #Задание 6.6\n",
    "\n",
    "#display(citibike_tripdata.head())\n",
    "#display(citibike_tripdata['start station id'].nunique()==citibike_tripdata['end station id'].nunique()) #Задание 6.7 A\n",
    "#display(  (2018-citibike_tripdata['birth year'].max())==10   )  #Задание 6.7 B\n",
    "#display(citibike_tripdata['start station name'].value_counts())  #Задание 6.7 C\n",
    "#display(citibike_tripdata['end station name'].value_counts())  #Задание 6.7 D\n",
    "\n",
    "citibike_tripdata_df = citibike_tripdata.copy()\n",
    "citibike_tripdata_df.drop(['start station id','end station id'],axis=1,inplace=True)\n",
    "#display(citibike_tripdata_df.shape[1]) ##Задание 6.8\n",
    "\n",
    "citibike_tripdata_df['age'] = 2018-citibike_tripdata['birth year']\n",
    "citibike_tripdata_df.drop(['birth year'],axis=1,inplace=True)\n",
    "#display(citibike_tripdata_df['age'])\n",
    "#display(citibike_tripdata_df.head())\n",
    "#display(   citibike_tripdata_df  [citibike_tripdata_df['age']>60]   .shape[0]  ) #Задание 6.8\n",
    "\n",
    "citibike_tripdata_df['trip duration']=pd.to_datetime(citibike_tripdata_df['stoptime'])-pd.to_datetime(citibike_tripdata_df['starttime'])\n",
    "#display(citibike_tripdata_df['trip duration'][3]) #Задание 6.10\n",
    "\n",
    "citibike_tripdata_df['starttime'] = pd.to_datetime(citibike_tripdata_df['starttime'])\n",
    "weekday = citibike_tripdata_df['starttime'].dt.dayofweek\n",
    "citibike_tripdata_df['weekend'] = weekday.apply(lambda x: 1 if x ==5 or x == 6 else 0)\n",
    "#display(citibike_tripdata_df['weekend'])\n",
    "#display(citibike_tripdata_df['weekend'].sum()) #Задание 6.10\n",
    "\n",
    "def get_time_of_day(time):\n",
    "    if 0 <= time <= 6:\n",
    "        return 'night'\n",
    "    elif 6 < time <= 12:\n",
    "        return 'morning'\n",
    "    elif 12 < time <= 18:\n",
    "        return 'day'\n",
    "    elif 18 < time <= 23:\n",
    "        return 'evening'\n",
    "\n",
    "citibike_tripdata_df['time_of_day'] = citibike_tripdata_df['starttime'].dt.hour.apply(get_time_of_day)\n",
    "a = citibike_tripdata_df[citibike_tripdata_df['time_of_day'] == 'day'].shape[0]\n",
    "b = citibike_tripdata_df[citibike_tripdata_df['time_of_day'] == 'night'].shape[0]\n",
    "print(round(a / b))\n",
    "\n",
    "\n"
   ]
  }
 ],
 "metadata": {
  "kernelspec": {
   "display_name": "Python 3",
   "language": "python",
   "name": "python3"
  },
  "language_info": {
   "codemirror_mode": {
    "name": "ipython",
    "version": 3
   },
   "file_extension": ".py",
   "mimetype": "text/x-python",
   "name": "python",
   "nbconvert_exporter": "python",
   "pygments_lexer": "ipython3",
   "version": "3.9.10"
  },
  "orig_nbformat": 4
 },
 "nbformat": 4,
 "nbformat_minor": 2
}
